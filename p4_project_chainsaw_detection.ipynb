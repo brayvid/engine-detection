{
  "nbformat": 4,
  "nbformat_minor": 0,
  "metadata": {
    "colab": {
      "provenance": [],
      "gpuType": "T4"
    },
    "kernelspec": {
      "name": "python3",
      "display_name": "Python 3"
    },
    "language_info": {
      "name": "python"
    },
    "accelerator": "GPU"
  },
  "cells": [
    {
      "cell_type": "markdown",
      "source": [
        "# Illegal Logging Detection\n",
        "<h4>Blake Rayvid - <a href=https://github.com/brayvid>https://github.com/brayvid</a></h4>"
      ],
      "metadata": {
        "id": "MlPv0p-sosw5"
      }
    },
    {
      "cell_type": "markdown",
      "source": [
        "# Feature extraction"
      ],
      "metadata": {
        "id": "SA_IYU_4opdY"
      }
    },
    {
      "cell_type": "code",
      "execution_count": 2,
      "metadata": {
        "id": "6y9ryX8HoWd7"
      },
      "outputs": [],
      "source": [
        "import os\n",
        "import numpy as np\n",
        "import librosa\n",
        "import logging\n",
        "\n",
        "logging.basicConfig(level=logging.DEBUG)\n",
        "\n",
        "def extract_features(file_path, max_len=200):\n",
        "    try:\n",
        "        logging.debug(f\"Attempting to load {file_path}\")\n",
        "\n",
        "        # Load the audio file\n",
        "        audio, sample_rate = librosa.load(file_path, res_type='kaiser_fast')\n",
        "        logging.debug(f\"Loaded {file_path}: audio shape {audio.shape}, sample rate {sample_rate}\")\n",
        "\n",
        "        # Generate Mel-spectrogram\n",
        "        mel_spectrogram = librosa.feature.melspectrogram(y=audio, sr=sample_rate, n_mels=128)\n",
        "        logging.debug(f\"Generated Mel-spectrogram for {file_path}: shape {mel_spectrogram.shape}\")\n",
        "\n",
        "        # Convert power spectrogram to decibel units\n",
        "        log_mel_spectrogram = librosa.power_to_db(mel_spectrogram, ref=np.max)\n",
        "        logging.debug(f\"Converted Mel-spectrogram to dB for {file_path}: shape {log_mel_spectrogram.shape}\")\n",
        "\n",
        "        # Pad or truncate Mel-spectrogram to ensure consistent length\n",
        "        if log_mel_spectrogram.shape[1] < max_len:\n",
        "            pad_width = max_len - log_mel_spectrogram.shape[1]\n",
        "            log_mel_spectrogram = np.pad(log_mel_spectrogram, pad_width=((0, 0), (0, pad_width)), mode='constant')\n",
        "        else:\n",
        "            log_mel_spectrogram = log_mel_spectrogram[:, :max_len]\n",
        "\n",
        "        return log_mel_spectrogram\n",
        "\n",
        "    except FileNotFoundError:\n",
        "        logging.error(f\"File not found: {file_path}\")\n",
        "        return None\n",
        "    except ValueError as ve:\n",
        "        logging.error(f\"Value error while processing file {file_path}: {ve}\")\n",
        "        return None\n",
        "    except Exception as e:\n",
        "        logging.error(f\"Error processing file {file_path}: {e}\")\n",
        "        return None\n",
        "\n",
        "def load_data(data_dir, max_len=200):\n",
        "    features = []\n",
        "    labels = []\n",
        "    class_names = ['chainsaw', 'non_chainsaw']\n",
        "\n",
        "    for class_name in class_names:\n",
        "        class_dir = os.path.join(data_dir, class_name)\n",
        "        for file_name in os.listdir(class_dir):\n",
        "            file_path = os.path.join(class_dir, file_name)\n",
        "            if file_path.endswith('.wav'):\n",
        "                data = extract_features(file_path, max_len=max_len)\n",
        "                if data is not None:\n",
        "                    features.append(data)\n",
        "                    labels.append(class_name)\n",
        "\n",
        "    return np.array(features), np.array(labels)\n",
        "\n",
        "# Load data\n",
        "data_dir = '/content/drive/MyDrive/PROJECTS/Flatiron/Phase_4_Project/data'\n",
        "max_len = 200  # or adjust this to a suitable length based on your dataset\n",
        "X, y = load_data(data_dir, max_len=max_len)\n",
        "\n",
        "if len(X) == 0:\n",
        "    logging.error(\"No valid features extracted. Please check your audio files and directory structure.\")\n",
        "else:\n",
        "    logging.info(f\"Extracted features from {len(X)} files.\")\n",
        "\n",
        "# Encode labels\n",
        "from sklearn.preprocessing import LabelEncoder\n",
        "le = LabelEncoder()\n",
        "y = le.fit_transform(y)"
      ]
    },
    {
      "cell_type": "code",
      "source": [
        "import pickle\n",
        "\n",
        "# Save X and y using pickle\n",
        "with open('X_chainsaw.pkl', 'wb') as f:\n",
        "    pickle.dump(X, f)\n",
        "with open('y_chainsaw.pkl', 'wb') as f:\n",
        "    pickle.dump(y, f)"
      ],
      "metadata": {
        "id": "o2cgfAfH6p45"
      },
      "execution_count": 6,
      "outputs": []
    },
    {
      "cell_type": "code",
      "source": [
        "import pickle\n",
        "\n",
        "# Load X and y from pickle file\n",
        "with open('X_chainsaw.pkl', 'rb') as f:\n",
        "    X = pickle.load(f)\n",
        "with open('y_chainsaw.pkl', 'rb') as f:\n",
        "    y = pickle.load(f)"
      ],
      "metadata": {
        "id": "Z9KDwjyh7BVx"
      },
      "execution_count": 1,
      "outputs": []
    },
    {
      "cell_type": "code",
      "source": [
        "from sklearn.model_selection import train_test_split\n",
        "\n",
        "# Split data into training and testing sets\n",
        "X_train, X_test, y_train, y_test = train_test_split(X, y, test_size=0.1, stratify=y)"
      ],
      "metadata": {
        "id": "PkoF5GSn7sIt"
      },
      "execution_count": 49,
      "outputs": []
    },
    {
      "cell_type": "markdown",
      "source": [
        "# Build model"
      ],
      "metadata": {
        "id": "y87dpo0pon9r"
      }
    },
    {
      "cell_type": "code",
      "source": [
        "from tensorflow.keras import layers, models\n",
        "from tensorflow.keras.callbacks import EarlyStopping\n",
        "\n",
        "# Input shape: (number of samples, frequency bins, time frames, 1)\n",
        "input_shape = (128, X_train.shape[2], 1)\n",
        "X_train = X_train.reshape(X_train.shape[0], 128, X_train.shape[2], 1)\n",
        "X_test = X_test.reshape(X_test.shape[0], 128, X_test.shape[2], 1)\n",
        "\n",
        "model = models.Sequential()\n",
        "\n",
        "# First convolutional layer\n",
        "model.add(layers.Conv2D(32, (3, 3), input_shape=input_shape))\n",
        "model.add(layers.BatchNormalization())\n",
        "model.add(layers.ReLU())\n",
        "model.add(layers.MaxPooling2D((2, 2)))\n",
        "\n",
        "# Second convolutional layer\n",
        "model.add(layers.Conv2D(64, (3, 3)))\n",
        "model.add(layers.BatchNormalization())\n",
        "model.add(layers.ReLU())\n",
        "model.add(layers.MaxPooling2D((2, 2)))\n",
        "\n",
        "# Third convolutional layer\n",
        "model.add(layers.Conv2D(128, (3, 3)))\n",
        "model.add(layers.BatchNormalization())\n",
        "model.add(layers.ReLU())\n",
        "model.add(layers.MaxPooling2D((2, 2)))\n",
        "\n",
        "# Flatten and dense layers\n",
        "model.add(layers.Flatten())\n",
        "model.add(layers.Dense(128, activation='relu'))\n",
        "model.add(layers.Dropout(0.5))\n",
        "model.add(layers.Dense(2, activation='softmax'))\n",
        "\n",
        "# Compile the model\n",
        "model.compile(optimizer='adam',\n",
        "              loss='sparse_categorical_crossentropy',\n",
        "              metrics=['accuracy'])\n",
        "\n",
        "# Summary of the model\n",
        "model.summary()\n",
        "\n",
        "# Define early stopping callback\n",
        "early_stopping = EarlyStopping(monitor='val_loss', patience=10, restore_best_weights=True)\n",
        "\n",
        "# Train the model with early stopping\n",
        "history = model.fit(X_train, y_train, epochs=50, validation_split=0.1)"
      ],
      "metadata": {
        "id": "AUBwbflRocsq",
        "colab": {
          "base_uri": "https://localhost:8080/"
        },
        "outputId": "75d744aa-95d1-45fd-b68f-9700b5f2e626"
      },
      "execution_count": 50,
      "outputs": [
        {
          "output_type": "stream",
          "name": "stdout",
          "text": [
            "Model: \"sequential_13\"\n",
            "_________________________________________________________________\n",
            " Layer (type)                Output Shape              Param #   \n",
            "=================================================================\n",
            " conv2d_39 (Conv2D)          (None, 126, 198, 32)      320       \n",
            "                                                                 \n",
            " batch_normalization_39 (Ba  (None, 126, 198, 32)      128       \n",
            " tchNormalization)                                               \n",
            "                                                                 \n",
            " re_lu_6 (ReLU)              (None, 126, 198, 32)      0         \n",
            "                                                                 \n",
            " max_pooling2d_39 (MaxPooli  (None, 63, 99, 32)        0         \n",
            " ng2D)                                                           \n",
            "                                                                 \n",
            " conv2d_40 (Conv2D)          (None, 61, 97, 64)        18496     \n",
            "                                                                 \n",
            " batch_normalization_40 (Ba  (None, 61, 97, 64)        256       \n",
            " tchNormalization)                                               \n",
            "                                                                 \n",
            " re_lu_7 (ReLU)              (None, 61, 97, 64)        0         \n",
            "                                                                 \n",
            " max_pooling2d_40 (MaxPooli  (None, 30, 48, 64)        0         \n",
            " ng2D)                                                           \n",
            "                                                                 \n",
            " conv2d_41 (Conv2D)          (None, 28, 46, 128)       73856     \n",
            "                                                                 \n",
            " batch_normalization_41 (Ba  (None, 28, 46, 128)       512       \n",
            " tchNormalization)                                               \n",
            "                                                                 \n",
            " re_lu_8 (ReLU)              (None, 28, 46, 128)       0         \n",
            "                                                                 \n",
            " max_pooling2d_41 (MaxPooli  (None, 14, 23, 128)       0         \n",
            " ng2D)                                                           \n",
            "                                                                 \n",
            " flatten_13 (Flatten)        (None, 41216)             0         \n",
            "                                                                 \n",
            " dense_26 (Dense)            (None, 128)               5275776   \n",
            "                                                                 \n",
            " dropout_13 (Dropout)        (None, 128)               0         \n",
            "                                                                 \n",
            " dense_27 (Dense)            (None, 2)                 258       \n",
            "                                                                 \n",
            "=================================================================\n",
            "Total params: 5369602 (20.48 MB)\n",
            "Trainable params: 5369154 (20.48 MB)\n",
            "Non-trainable params: 448 (1.75 KB)\n",
            "_________________________________________________________________\n",
            "Epoch 1/50\n",
            "51/51 [==============================] - 4s 44ms/step - loss: 1.5271 - accuracy: 0.9667 - val_loss: 47.5922 - val_accuracy: 0.9779\n",
            "Epoch 2/50\n",
            "51/51 [==============================] - 2s 39ms/step - loss: 0.3251 - accuracy: 0.9778 - val_loss: 6.6547 - val_accuracy: 0.9779\n",
            "Epoch 3/50\n",
            "51/51 [==============================] - 2s 39ms/step - loss: 0.1801 - accuracy: 0.9747 - val_loss: 2.0722 - val_accuracy: 0.9779\n",
            "Epoch 4/50\n",
            "51/51 [==============================] - 2s 37ms/step - loss: 0.1918 - accuracy: 0.9784 - val_loss: 0.5456 - val_accuracy: 0.9779\n",
            "Epoch 5/50\n",
            "51/51 [==============================] - 2s 37ms/step - loss: 0.1101 - accuracy: 0.9772 - val_loss: 0.3097 - val_accuracy: 0.9779\n",
            "Epoch 6/50\n",
            "51/51 [==============================] - 2s 37ms/step - loss: 0.0759 - accuracy: 0.9809 - val_loss: 0.2678 - val_accuracy: 0.9724\n",
            "Epoch 7/50\n",
            "51/51 [==============================] - 2s 39ms/step - loss: 0.0841 - accuracy: 0.9784 - val_loss: 0.2330 - val_accuracy: 0.9779\n",
            "Epoch 8/50\n",
            "51/51 [==============================] - 2s 39ms/step - loss: 0.1007 - accuracy: 0.9778 - val_loss: 0.1337 - val_accuracy: 0.9724\n",
            "Epoch 9/50\n",
            "51/51 [==============================] - 2s 41ms/step - loss: 0.0728 - accuracy: 0.9790 - val_loss: 0.1187 - val_accuracy: 0.9724\n",
            "Epoch 10/50\n",
            "51/51 [==============================] - 2s 40ms/step - loss: 0.0710 - accuracy: 0.9790 - val_loss: 0.1205 - val_accuracy: 0.9779\n",
            "Epoch 11/50\n",
            "51/51 [==============================] - 2s 39ms/step - loss: 0.0810 - accuracy: 0.9790 - val_loss: 0.0922 - val_accuracy: 0.9779\n",
            "Epoch 12/50\n",
            "51/51 [==============================] - 2s 39ms/step - loss: 0.0714 - accuracy: 0.9802 - val_loss: 0.1409 - val_accuracy: 0.9779\n",
            "Epoch 13/50\n",
            "51/51 [==============================] - 2s 39ms/step - loss: 0.0541 - accuracy: 0.9784 - val_loss: 0.0681 - val_accuracy: 0.9724\n",
            "Epoch 14/50\n",
            "51/51 [==============================] - 2s 39ms/step - loss: 0.0448 - accuracy: 0.9840 - val_loss: 0.0782 - val_accuracy: 0.9724\n",
            "Epoch 15/50\n",
            "51/51 [==============================] - 2s 40ms/step - loss: 0.0508 - accuracy: 0.9840 - val_loss: 0.0728 - val_accuracy: 0.9779\n",
            "Epoch 16/50\n",
            "51/51 [==============================] - 2s 40ms/step - loss: 0.0488 - accuracy: 0.9852 - val_loss: 0.0996 - val_accuracy: 0.9558\n",
            "Epoch 17/50\n",
            "51/51 [==============================] - 2s 38ms/step - loss: 0.0535 - accuracy: 0.9821 - val_loss: 0.0925 - val_accuracy: 0.9779\n",
            "Epoch 18/50\n",
            "51/51 [==============================] - 2s 38ms/step - loss: 0.0301 - accuracy: 0.9907 - val_loss: 0.0736 - val_accuracy: 0.9779\n",
            "Epoch 19/50\n",
            "51/51 [==============================] - 2s 39ms/step - loss: 0.0368 - accuracy: 0.9852 - val_loss: 0.0909 - val_accuracy: 0.9779\n",
            "Epoch 20/50\n",
            "51/51 [==============================] - 2s 38ms/step - loss: 0.0267 - accuracy: 0.9920 - val_loss: 0.0729 - val_accuracy: 0.9834\n",
            "Epoch 21/50\n",
            "51/51 [==============================] - 2s 37ms/step - loss: 0.0290 - accuracy: 0.9901 - val_loss: 0.0943 - val_accuracy: 0.9779\n",
            "Epoch 22/50\n",
            "51/51 [==============================] - 2s 39ms/step - loss: 0.0272 - accuracy: 0.9920 - val_loss: 0.0549 - val_accuracy: 0.9779\n",
            "Epoch 23/50\n",
            "51/51 [==============================] - 2s 40ms/step - loss: 0.0238 - accuracy: 0.9920 - val_loss: 0.0762 - val_accuracy: 0.9724\n",
            "Epoch 24/50\n",
            "51/51 [==============================] - 2s 37ms/step - loss: 0.0224 - accuracy: 0.9920 - val_loss: 0.0975 - val_accuracy: 0.9779\n",
            "Epoch 25/50\n",
            "51/51 [==============================] - 2s 39ms/step - loss: 0.0254 - accuracy: 0.9926 - val_loss: 0.0374 - val_accuracy: 0.9779\n",
            "Epoch 26/50\n",
            "51/51 [==============================] - 2s 49ms/step - loss: 0.0466 - accuracy: 0.9901 - val_loss: 0.0588 - val_accuracy: 0.9779\n",
            "Epoch 27/50\n",
            "51/51 [==============================] - 2s 48ms/step - loss: 0.1045 - accuracy: 0.9864 - val_loss: 0.3641 - val_accuracy: 0.9779\n",
            "Epoch 28/50\n",
            "51/51 [==============================] - 3s 50ms/step - loss: 0.0967 - accuracy: 0.9901 - val_loss: 0.1764 - val_accuracy: 0.9834\n",
            "Epoch 29/50\n",
            "51/51 [==============================] - 3s 56ms/step - loss: 0.0232 - accuracy: 0.9901 - val_loss: 0.2626 - val_accuracy: 0.9834\n",
            "Epoch 30/50\n",
            "51/51 [==============================] - 3s 52ms/step - loss: 0.0767 - accuracy: 0.9870 - val_loss: 0.1285 - val_accuracy: 0.9669\n",
            "Epoch 31/50\n",
            "51/51 [==============================] - 2s 47ms/step - loss: 0.0526 - accuracy: 0.9877 - val_loss: 0.1067 - val_accuracy: 0.9834\n",
            "Epoch 32/50\n",
            "51/51 [==============================] - 2s 46ms/step - loss: 0.0616 - accuracy: 0.9840 - val_loss: 0.1593 - val_accuracy: 0.9834\n",
            "Epoch 33/50\n",
            "51/51 [==============================] - 2s 47ms/step - loss: 0.0172 - accuracy: 0.9907 - val_loss: 0.3009 - val_accuracy: 0.9779\n",
            "Epoch 34/50\n",
            "51/51 [==============================] - 2s 44ms/step - loss: 0.0173 - accuracy: 0.9914 - val_loss: 0.0868 - val_accuracy: 0.9834\n",
            "Epoch 35/50\n",
            "51/51 [==============================] - 2s 46ms/step - loss: 0.0177 - accuracy: 0.9901 - val_loss: 0.0813 - val_accuracy: 0.9834\n",
            "Epoch 36/50\n",
            "51/51 [==============================] - 3s 52ms/step - loss: 0.0391 - accuracy: 0.9926 - val_loss: 0.1298 - val_accuracy: 0.9834\n",
            "Epoch 37/50\n",
            "51/51 [==============================] - 2s 39ms/step - loss: 0.0187 - accuracy: 0.9920 - val_loss: 0.0774 - val_accuracy: 0.9779\n",
            "Epoch 38/50\n",
            "51/51 [==============================] - 2s 40ms/step - loss: 0.0242 - accuracy: 0.9920 - val_loss: 0.0603 - val_accuracy: 0.9779\n",
            "Epoch 39/50\n",
            "51/51 [==============================] - 2s 38ms/step - loss: 0.0205 - accuracy: 0.9914 - val_loss: 0.0870 - val_accuracy: 0.9724\n",
            "Epoch 40/50\n",
            "51/51 [==============================] - 2s 39ms/step - loss: 0.0134 - accuracy: 0.9920 - val_loss: 0.0937 - val_accuracy: 0.9779\n",
            "Epoch 41/50\n",
            "51/51 [==============================] - 2s 41ms/step - loss: 0.0119 - accuracy: 0.9914 - val_loss: 0.0595 - val_accuracy: 0.9779\n",
            "Epoch 42/50\n",
            "51/51 [==============================] - 2s 42ms/step - loss: 0.0127 - accuracy: 0.9932 - val_loss: 0.0713 - val_accuracy: 0.9724\n",
            "Epoch 43/50\n",
            "51/51 [==============================] - 2s 39ms/step - loss: 0.0244 - accuracy: 0.9907 - val_loss: 0.1569 - val_accuracy: 0.9779\n",
            "Epoch 44/50\n",
            "51/51 [==============================] - 2s 39ms/step - loss: 0.0169 - accuracy: 0.9944 - val_loss: 0.1289 - val_accuracy: 0.9834\n",
            "Epoch 45/50\n",
            "51/51 [==============================] - 2s 38ms/step - loss: 0.0126 - accuracy: 0.9938 - val_loss: 0.1152 - val_accuracy: 0.9834\n",
            "Epoch 46/50\n",
            "51/51 [==============================] - 2s 41ms/step - loss: 0.0150 - accuracy: 0.9932 - val_loss: 0.0980 - val_accuracy: 0.9779\n",
            "Epoch 47/50\n",
            "51/51 [==============================] - 2s 45ms/step - loss: 0.0183 - accuracy: 0.9938 - val_loss: 0.1005 - val_accuracy: 0.9779\n",
            "Epoch 48/50\n",
            "51/51 [==============================] - 2s 48ms/step - loss: 0.0130 - accuracy: 0.9920 - val_loss: 0.0646 - val_accuracy: 0.9779\n",
            "Epoch 49/50\n",
            "51/51 [==============================] - 2s 45ms/step - loss: 0.0141 - accuracy: 0.9938 - val_loss: 0.0503 - val_accuracy: 0.9724\n",
            "Epoch 50/50\n",
            "51/51 [==============================] - 2s 40ms/step - loss: 0.0080 - accuracy: 0.9975 - val_loss: 0.0514 - val_accuracy: 0.9724\n"
          ]
        }
      ]
    },
    {
      "cell_type": "markdown",
      "source": [
        "# Evaluate model"
      ],
      "metadata": {
        "id": "P4NqekWOoj-9"
      }
    },
    {
      "cell_type": "code",
      "source": [
        "import matplotlib.pyplot as plt\n",
        "import numpy as np\n",
        "from sklearn.metrics import precision_score, recall_score, f1_score, ConfusionMatrixDisplay, roc_auc_score\n",
        "\n",
        "# Evaluate the model\n",
        "test_loss, test_acc = model.evaluate(X_test, y_test)\n",
        "print(f\"Test accuracy: {test_acc}\")\n",
        "\n",
        "# Calculate metrics\n",
        "y_pred = np.argmax(model.predict(X_test), axis=1)\n",
        "precision = precision_score(y_test, y_pred, average='binary')\n",
        "recall = recall_score(y_test, y_pred, average='binary')\n",
        "f1 = f1_score(y_test, y_pred, average='binary')\n",
        "roc_auc = roc_auc_score(y_test, y_pred)\n",
        "\n",
        "# Display metrics\n",
        "print(f\"Precision: {precision}\")\n",
        "print(f\"Recall: {recall}\")\n",
        "print(f\"F1 Score: {f1}\")\n",
        "print(f\"AUC-ROC: {roc_auc}\")\n",
        "\n",
        "# Plot confusion matrix\n",
        "ConfusionMatrixDisplay.from_predictions(y_test, y_pred, display_labels=['Chainsaw', 'No Chainsaw'])\n",
        "plt.show()\n",
        "\n",
        "# Plotting training and validation accuracy\n",
        "plt.plot(history.history['accuracy'], label='accuracy')\n",
        "plt.plot(history.history['val_accuracy'], label = 'val_accuracy')\n",
        "plt.xlabel('Epoch')\n",
        "plt.ylabel('Accuracy')\n",
        "plt.ylim([0, 1])\n",
        "plt.legend(loc='lower right')\n",
        "plt.show()"
      ],
      "metadata": {
        "id": "aa54hcoiojfg",
        "colab": {
          "base_uri": "https://localhost:8080/",
          "height": 1000
        },
        "outputId": "d3f82a4b-e96b-4386-8af9-f34d0cca322a"
      },
      "execution_count": 51,
      "outputs": [
        {
          "output_type": "stream",
          "name": "stdout",
          "text": [
            "7/7 [==============================] - 0s 12ms/step - loss: 0.0146 - accuracy: 0.9950\n",
            "Test accuracy: 0.9950248599052429\n",
            "7/7 [==============================] - 0s 11ms/step\n",
            "Precision: 1.0\n",
            "Recall: 0.9949238578680203\n",
            "F1 Score: 0.9974554707379135\n",
            "AUC-ROC: 0.9974619289340101\n"
          ]
        },
        {
          "output_type": "display_data",
          "data": {
            "text/plain": [
              "<Figure size 640x480 with 2 Axes>"
            ],
            "image/png": "[encoded data removed]"
          },
          "metadata": {}
        },
        {
          "output_type": "display_data",
          "data": {
            "text/plain": [
              "<Figure size 640x480 with 1 Axes>"
            ],
            "image/png": "[encoded data removed]"
          },
          "metadata": {}
        }
      ]
    },
    {
      "cell_type": "code",
      "source": [],
      "metadata": {
        "id": "zxqz7s9MDG3s"
      },
      "execution_count": null,
      "outputs": []
    }
  ]
}