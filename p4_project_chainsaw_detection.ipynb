{
  "nbformat": 4,
  "nbformat_minor": 0,
  "metadata": {
    "colab": {
      "provenance": [],
      "gpuType": "T4"
    },
    "kernelspec": {
      "name": "python3",
      "display_name": "Python 3"
    },
    "language_info": {
      "name": "python"
    },
    "accelerator": "GPU"
  },
  "cells": [
    {
      "cell_type": "markdown",
      "source": [
        "# Illegal Logging Detection\n",
        "<h4>Blake Rayvid - <a href=https://github.com/brayvid>https://github.com/brayvid</a></h4>"
      ],
      "metadata": {
        "id": "MlPv0p-sosw5"
      }
    },
    {
      "cell_type": "markdown",
      "source": [
        "# Feature extraction"
      ],
      "metadata": {
        "id": "SA_IYU_4opdY"
      }
    },
    {
      "cell_type": "code",
      "source": [
        "!pip install resampy"
      ],
      "metadata": {
        "colab": {
          "base_uri": "https://localhost:8080/"
        },
        "id": "58zWtLu5TK-Q",
        "outputId": "32c2f338-3d7d-499f-c68b-c86a4e38cf5c"
      },
      "execution_count": 1,
      "outputs": [
        {
          "output_type": "stream",
          "name": "stdout",
          "text": [
            "Collecting resampy\n",
            "  Downloading resampy-0.4.3-py3-none-any.whl.metadata (3.0 kB)\n",
            "Requirement already satisfied: numpy>=1.17 in /usr/local/lib/python3.10/dist-packages (from resampy) (1.25.2)\n",
            "Requirement already satisfied: numba>=0.53 in /usr/local/lib/python3.10/dist-packages (from resampy) (0.60.0)\n",
            "Requirement already satisfied: llvmlite<0.44,>=0.43.0dev0 in /usr/local/lib/python3.10/dist-packages (from numba>=0.53->resampy) (0.43.0)\n",
            "Downloading resampy-0.4.3-py3-none-any.whl (3.1 MB)\n",
            "\u001b[?25l   \u001b[90m━━━━━━━━━━━━━━━━━━━━━━━━━━━━━━━━━━━━━━━━\u001b[0m \u001b[32m0.0/3.1 MB\u001b[0m \u001b[31m?\u001b[0m eta \u001b[36m-:--:--\u001b[0m\r\u001b[2K   \u001b[91m━━━━━━\u001b[0m\u001b[90m╺\u001b[0m\u001b[90m━━━━━━━━━━━━━━━━━━━━━━━━━━━━━━━━━\u001b[0m \u001b[32m0.5/3.1 MB\u001b[0m \u001b[31m15.5 MB/s\u001b[0m eta \u001b[36m0:00:01\u001b[0m\r\u001b[2K   \u001b[91m━━━━━━━━━━━━━━━━━━━━━━━━━━━━━━━━━━━━━━━\u001b[0m\u001b[91m╸\u001b[0m \u001b[32m3.1/3.1 MB\u001b[0m \u001b[31m47.7 MB/s\u001b[0m eta \u001b[36m0:00:01\u001b[0m\r\u001b[2K   \u001b[90m━━━━━━━━━━━━━━━━━━━━━━━━━━━━━━━━━━━━━━━━\u001b[0m \u001b[32m3.1/3.1 MB\u001b[0m \u001b[31m25.7 MB/s\u001b[0m eta \u001b[36m0:00:00\u001b[0m\n",
            "\u001b[?25hInstalling collected packages: resampy\n",
            "Successfully installed resampy-0.4.3\n"
          ]
        }
      ]
    },
    {
      "cell_type": "code",
      "execution_count": 2,
      "metadata": {
        "id": "6y9ryX8HoWd7"
      },
      "outputs": [],
      "source": [
        "import os\n",
        "import numpy as np\n",
        "import resampy\n",
        "import librosa\n",
        "import logging\n",
        "\n",
        "logging.basicConfig(level=logging.DEBUG)\n",
        "\n",
        "def extract_features(file_path, max_len=200):\n",
        "    try:\n",
        "        logging.debug(f\"Attempting to load {file_path}\")\n",
        "\n",
        "        # Load audio file\n",
        "        audio, sample_rate = librosa.load(file_path, res_type='kaiser_fast')\n",
        "        logging.debug(f\"Loaded {file_path}: audio shape {audio.shape}, sample rate {sample_rate}\")\n",
        "\n",
        "        # Generate Mel-spectrogram\n",
        "        mel_spectrogram = librosa.feature.melspectrogram(y=audio, sr=sample_rate, n_mels=128)\n",
        "        logging.debug(f\"Generated Mel-spectrogram for {file_path}: shape {mel_spectrogram.shape}\")\n",
        "\n",
        "        # Convert power spectrogram to dB\n",
        "        log_mel_spectrogram = librosa.power_to_db(mel_spectrogram, ref=np.max)\n",
        "        logging.debug(f\"Converted Mel-spectrogram to dB for {file_path}: shape {log_mel_spectrogram.shape}\")\n",
        "\n",
        "        # Pad or truncate Mel-spectrogram\n",
        "        if log_mel_spectrogram.shape[1] < max_len:\n",
        "            pad_width = max_len - log_mel_spectrogram.shape[1]\n",
        "            log_mel_spectrogram = np.pad(log_mel_spectrogram, pad_width=((0, 0), (0, pad_width)), mode='constant')\n",
        "        else:\n",
        "            log_mel_spectrogram = log_mel_spectrogram[:, :max_len]\n",
        "\n",
        "        return log_mel_spectrogram\n",
        "\n",
        "    except FileNotFoundError:\n",
        "        logging.error(f\"File not found: {file_path}\")\n",
        "        return None\n",
        "    except ValueError as ve:\n",
        "        logging.error(f\"Value error while processing file {file_path}: {ve}\")\n",
        "        return None\n",
        "    except Exception as e:\n",
        "        logging.error(f\"Error processing file {file_path}: {e}\")\n",
        "        return None\n",
        "\n",
        "def load_data(data_dir, max_len=200):\n",
        "    features = []\n",
        "    labels = []\n",
        "    class_names = ['chainsaw', 'non_chainsaw']\n",
        "\n",
        "    for class_name in class_names:\n",
        "        class_dir = os.path.join(data_dir, class_name)\n",
        "        for file_name in os.listdir(class_dir):\n",
        "            file_path = os.path.join(class_dir, file_name)\n",
        "            if file_path.endswith('.wav'):\n",
        "                data = extract_features(file_path, max_len=max_len)\n",
        "                if data is not None:\n",
        "                    features.append(data)\n",
        "                    labels.append(class_name)\n",
        "\n",
        "    return np.array(features), np.array(labels)\n",
        "\n",
        "# Load data\n",
        "data_dir = '/content/drive/MyDrive/PROJECTS/Flatiron/Phase_4_Project/data'\n",
        "max_len = 200\n",
        "X, y = load_data(data_dir, max_len=max_len)\n",
        "\n",
        "if len(X) == 0:\n",
        "    logging.error(\"No valid features extracted.\")\n",
        "else:\n",
        "    logging.info(f\"Extracted features from {len(X)} files.\")\n",
        "\n",
        "# Encode labels\n",
        "from sklearn.preprocessing import LabelEncoder\n",
        "le = LabelEncoder()\n",
        "y = le.fit_transform(y)"
      ]
    },
    {
      "cell_type": "code",
      "source": [
        "import pickle\n",
        "\n",
        "# Save X and y to files using pickle\n",
        "with open('/content/drive/MyDrive/PROJECTS/Flatiron/Phase_4_Project/X_chainsaw.pkl', 'wb') as f:\n",
        "    pickle.dump(X, f)\n",
        "with open('/content/drive/MyDrive/PROJECTS/Flatiron/Phase_4_Project/y_chainsaw.pkl', 'wb') as f:\n",
        "    pickle.dump(y, f)"
      ],
      "metadata": {
        "id": "o2cgfAfH6p45"
      },
      "execution_count": 3,
      "outputs": []
    },
    {
      "cell_type": "code",
      "source": [
        "import pickle\n",
        "\n",
        "# Load X and y from pickle file\n",
        "with open('/content/drive/MyDrive/PROJECTS/Flatiron/Phase_4_Project/X_chainsaw.pkl', 'rb') as f:\n",
        "    X = pickle.load(f)\n",
        "with open('/content/drive/MyDrive/PROJECTS/Flatiron/Phase_4_Project/y_chainsaw.pkl', 'rb') as f:\n",
        "    y = pickle.load(f)"
      ],
      "metadata": {
        "id": "Z9KDwjyh7BVx"
      },
      "execution_count": 14,
      "outputs": []
    },
    {
      "cell_type": "code",
      "source": [
        "from sklearn.model_selection import train_test_split\n",
        "\n",
        "# Split data into training and testing sets\n",
        "X_train, X_test, y_train, y_test = train_test_split(X, y, test_size=0.1, stratify=y)"
      ],
      "metadata": {
        "id": "PkoF5GSn7sIt"
      },
      "execution_count": 4,
      "outputs": []
    },
    {
      "cell_type": "markdown",
      "source": [
        "# Build model"
      ],
      "metadata": {
        "id": "y87dpo0pon9r"
      }
    },
    {
      "cell_type": "code",
      "source": [
        "from tensorflow.keras import layers, models\n",
        "from tensorflow.keras.callbacks import EarlyStopping\n",
        "\n",
        "# Input shape: (number of samples, frequency bins, time frames, 1)\n",
        "input_shape = (128, X_train.shape[2], 1)\n",
        "X_train = X_train.reshape(X_train.shape[0], 128, X_train.shape[2], 1)\n",
        "X_test = X_test.reshape(X_test.shape[0], 128, X_test.shape[2], 1)\n",
        "\n",
        "model = models.Sequential()\n",
        "\n",
        "# First convolutional layer\n",
        "model.add(layers.Conv2D(32, (3, 3), input_shape=input_shape))\n",
        "model.add(layers.BatchNormalization())\n",
        "model.add(layers.ReLU())\n",
        "model.add(layers.MaxPooling2D((2, 2)))\n",
        "\n",
        "# Second convolutional layer\n",
        "model.add(layers.Conv2D(64, (3, 3)))\n",
        "model.add(layers.BatchNormalization())\n",
        "model.add(layers.ReLU())\n",
        "model.add(layers.MaxPooling2D((2, 2)))\n",
        "\n",
        "# Third convolutional layer\n",
        "model.add(layers.Conv2D(128, (3, 3)))\n",
        "model.add(layers.BatchNormalization())\n",
        "model.add(layers.ReLU())\n",
        "model.add(layers.MaxPooling2D((2, 2)))\n",
        "\n",
        "# Flatten and dense layers\n",
        "model.add(layers.Flatten())\n",
        "model.add(layers.Dense(128, activation='relu'))\n",
        "model.add(layers.Dropout(0.5))\n",
        "model.add(layers.Dense(2, activation='softmax'))\n",
        "\n",
        "# Compile the model\n",
        "model.compile(optimizer='adam',\n",
        "              loss='sparse_categorical_crossentropy',\n",
        "              metrics=['accuracy'])\n",
        "\n",
        "# Summary of the model\n",
        "model.summary()\n",
        "\n",
        "# Define early stopping callback\n",
        "early_stopping = EarlyStopping(monitor='val_loss', patience=10, restore_best_weights=True)\n",
        "\n",
        "# Train the model with early stopping\n",
        "history = model.fit(X_train, y_train, epochs=50, validation_split=0.1, callbacks=[early_stopping])"
      ],
      "metadata": {
        "id": "AUBwbflRocsq",
        "colab": {
          "base_uri": "https://localhost:8080/"
        },
        "outputId": "18d0b397-cb64-4cf3-8eb2-b1bb4e2f1daa"
      },
      "execution_count": 6,
      "outputs": [
        {
          "output_type": "stream",
          "name": "stdout",
          "text": [
            "Model: \"sequential_1\"\n",
            "_________________________________________________________________\n",
            " Layer (type)                Output Shape              Param #   \n",
            "=================================================================\n",
            " conv2d_3 (Conv2D)           (None, 126, 198, 32)      320       \n",
            "                                                                 \n",
            " batch_normalization_3 (Bat  (None, 126, 198, 32)      128       \n",
            " chNormalization)                                                \n",
            "                                                                 \n",
            " re_lu_3 (ReLU)              (None, 126, 198, 32)      0         \n",
            "                                                                 \n",
            " max_pooling2d_3 (MaxPoolin  (None, 63, 99, 32)        0         \n",
            " g2D)                                                            \n",
            "                                                                 \n",
            " conv2d_4 (Conv2D)           (None, 61, 97, 64)        18496     \n",
            "                                                                 \n",
            " batch_normalization_4 (Bat  (None, 61, 97, 64)        256       \n",
            " chNormalization)                                                \n",
            "                                                                 \n",
            " re_lu_4 (ReLU)              (None, 61, 97, 64)        0         \n",
            "                                                                 \n",
            " max_pooling2d_4 (MaxPoolin  (None, 30, 48, 64)        0         \n",
            " g2D)                                                            \n",
            "                                                                 \n",
            " conv2d_5 (Conv2D)           (None, 28, 46, 128)       73856     \n",
            "                                                                 \n",
            " batch_normalization_5 (Bat  (None, 28, 46, 128)       512       \n",
            " chNormalization)                                                \n",
            "                                                                 \n",
            " re_lu_5 (ReLU)              (None, 28, 46, 128)       0         \n",
            "                                                                 \n",
            " max_pooling2d_5 (MaxPoolin  (None, 14, 23, 128)       0         \n",
            " g2D)                                                            \n",
            "                                                                 \n",
            " flatten_1 (Flatten)         (None, 41216)             0         \n",
            "                                                                 \n",
            " dense_2 (Dense)             (None, 128)               5275776   \n",
            "                                                                 \n",
            " dropout_1 (Dropout)         (None, 128)               0         \n",
            "                                                                 \n",
            " dense_3 (Dense)             (None, 2)                 258       \n",
            "                                                                 \n",
            "=================================================================\n",
            "Total params: 5369602 (20.48 MB)\n",
            "Trainable params: 5369154 (20.48 MB)\n",
            "Non-trainable params: 448 (1.75 KB)\n",
            "_________________________________________________________________\n",
            "Epoch 1/50\n",
            "51/51 [==============================] - 7s 54ms/step - loss: 2.1448 - accuracy: 0.9679 - val_loss: 66.8861 - val_accuracy: 0.9779\n",
            "Epoch 2/50\n",
            "51/51 [==============================] - 2s 39ms/step - loss: 0.1797 - accuracy: 0.9765 - val_loss: 6.7315 - val_accuracy: 0.9779\n",
            "Epoch 3/50\n",
            "51/51 [==============================] - 2s 39ms/step - loss: 0.1064 - accuracy: 0.9796 - val_loss: 0.8251 - val_accuracy: 0.9779\n",
            "Epoch 4/50\n",
            "51/51 [==============================] - 2s 40ms/step - loss: 0.0963 - accuracy: 0.9778 - val_loss: 0.2041 - val_accuracy: 0.9779\n",
            "Epoch 5/50\n",
            "51/51 [==============================] - 2s 37ms/step - loss: 0.0866 - accuracy: 0.9784 - val_loss: 0.1172 - val_accuracy: 0.9779\n",
            "Epoch 6/50\n",
            "51/51 [==============================] - 2s 37ms/step - loss: 0.0698 - accuracy: 0.9796 - val_loss: 0.1074 - val_accuracy: 0.9779\n",
            "Epoch 7/50\n",
            "51/51 [==============================] - 2s 39ms/step - loss: 0.0968 - accuracy: 0.9778 - val_loss: 0.1009 - val_accuracy: 0.9779\n",
            "Epoch 8/50\n",
            "51/51 [==============================] - 2s 38ms/step - loss: 0.0690 - accuracy: 0.9784 - val_loss: 0.0661 - val_accuracy: 0.9779\n",
            "Epoch 9/50\n",
            "51/51 [==============================] - 2s 39ms/step - loss: 0.0517 - accuracy: 0.9790 - val_loss: 0.0578 - val_accuracy: 0.9779\n",
            "Epoch 10/50\n",
            "51/51 [==============================] - 2s 41ms/step - loss: 0.0397 - accuracy: 0.9802 - val_loss: 0.0616 - val_accuracy: 0.9779\n",
            "Epoch 11/50\n",
            "51/51 [==============================] - 2s 40ms/step - loss: 0.0429 - accuracy: 0.9802 - val_loss: 0.0683 - val_accuracy: 0.9779\n",
            "Epoch 12/50\n",
            "51/51 [==============================] - 2s 37ms/step - loss: 0.0368 - accuracy: 0.9790 - val_loss: 0.0539 - val_accuracy: 0.9779\n",
            "Epoch 13/50\n",
            "51/51 [==============================] - 2s 38ms/step - loss: 0.0461 - accuracy: 0.9815 - val_loss: 0.0873 - val_accuracy: 0.9779\n",
            "Epoch 14/50\n",
            "51/51 [==============================] - 2s 39ms/step - loss: 0.0488 - accuracy: 0.9827 - val_loss: 0.0717 - val_accuracy: 0.9779\n",
            "Epoch 15/50\n",
            "51/51 [==============================] - 2s 39ms/step - loss: 0.0381 - accuracy: 0.9821 - val_loss: 0.1213 - val_accuracy: 0.9834\n",
            "Epoch 16/50\n",
            "51/51 [==============================] - 2s 39ms/step - loss: 0.0416 - accuracy: 0.9821 - val_loss: 0.0536 - val_accuracy: 0.9890\n",
            "Epoch 17/50\n",
            "51/51 [==============================] - 2s 40ms/step - loss: 0.0372 - accuracy: 0.9852 - val_loss: 0.0638 - val_accuracy: 0.9834\n",
            "Epoch 18/50\n",
            "51/51 [==============================] - 2s 38ms/step - loss: 0.0429 - accuracy: 0.9870 - val_loss: 0.0498 - val_accuracy: 0.9779\n",
            "Epoch 19/50\n",
            "51/51 [==============================] - 2s 37ms/step - loss: 0.0244 - accuracy: 0.9877 - val_loss: 0.0609 - val_accuracy: 0.9834\n",
            "Epoch 20/50\n",
            "51/51 [==============================] - 2s 37ms/step - loss: 0.0235 - accuracy: 0.9883 - val_loss: 0.1216 - val_accuracy: 0.9779\n",
            "Epoch 21/50\n",
            "51/51 [==============================] - 2s 38ms/step - loss: 0.0344 - accuracy: 0.9815 - val_loss: 0.1257 - val_accuracy: 0.9834\n",
            "Epoch 22/50\n",
            "51/51 [==============================] - 2s 39ms/step - loss: 0.0658 - accuracy: 0.9846 - val_loss: 0.0455 - val_accuracy: 0.9779\n",
            "Epoch 23/50\n",
            "51/51 [==============================] - 2s 39ms/step - loss: 0.0370 - accuracy: 0.9846 - val_loss: 0.0446 - val_accuracy: 0.9779\n",
            "Epoch 24/50\n",
            "51/51 [==============================] - 2s 41ms/step - loss: 0.0269 - accuracy: 0.9870 - val_loss: 0.0365 - val_accuracy: 0.9890\n",
            "Epoch 25/50\n",
            "51/51 [==============================] - 2s 37ms/step - loss: 0.0263 - accuracy: 0.9864 - val_loss: 0.0411 - val_accuracy: 0.9834\n",
            "Epoch 26/50\n",
            "51/51 [==============================] - 2s 39ms/step - loss: 0.0287 - accuracy: 0.9877 - val_loss: 0.0339 - val_accuracy: 0.9890\n",
            "Epoch 27/50\n",
            "51/51 [==============================] - 2s 37ms/step - loss: 0.0437 - accuracy: 0.9852 - val_loss: 0.0473 - val_accuracy: 0.9834\n",
            "Epoch 28/50\n",
            "51/51 [==============================] - 2s 37ms/step - loss: 0.0471 - accuracy: 0.9877 - val_loss: 0.0452 - val_accuracy: 0.9779\n",
            "Epoch 29/50\n",
            "51/51 [==============================] - 2s 37ms/step - loss: 0.0337 - accuracy: 0.9883 - val_loss: 0.0389 - val_accuracy: 0.9834\n",
            "Epoch 30/50\n",
            "51/51 [==============================] - 2s 40ms/step - loss: 0.0486 - accuracy: 0.9883 - val_loss: 0.2956 - val_accuracy: 0.9834\n",
            "Epoch 31/50\n",
            "51/51 [==============================] - 2s 48ms/step - loss: 0.0854 - accuracy: 0.9877 - val_loss: 0.0744 - val_accuracy: 0.9890\n",
            "Epoch 32/50\n",
            "51/51 [==============================] - 2s 39ms/step - loss: 0.0213 - accuracy: 0.9932 - val_loss: 0.0466 - val_accuracy: 0.9890\n",
            "Epoch 33/50\n",
            "51/51 [==============================] - 2s 39ms/step - loss: 0.0268 - accuracy: 0.9877 - val_loss: 0.0687 - val_accuracy: 0.9834\n",
            "Epoch 34/50\n",
            "51/51 [==============================] - 2s 38ms/step - loss: 0.0479 - accuracy: 0.9907 - val_loss: 0.0820 - val_accuracy: 0.9890\n",
            "Epoch 35/50\n",
            "51/51 [==============================] - 2s 39ms/step - loss: 0.0315 - accuracy: 0.9932 - val_loss: 0.1308 - val_accuracy: 0.9779\n",
            "Epoch 36/50\n",
            "51/51 [==============================] - 2s 38ms/step - loss: 0.0218 - accuracy: 0.9914 - val_loss: 0.0746 - val_accuracy: 0.9890\n"
          ]
        }
      ]
    },
    {
      "cell_type": "markdown",
      "source": [
        "# Evaluate model"
      ],
      "metadata": {
        "id": "P4NqekWOoj-9"
      }
    },
    {
      "cell_type": "code",
      "source": [
        "import matplotlib.pyplot as plt\n",
        "import numpy as np\n",
        "from sklearn.metrics import precision_score, recall_score, f1_score, ConfusionMatrixDisplay, roc_auc_score\n",
        "\n",
        "# Evaluate the model\n",
        "test_loss, test_acc = model.evaluate(X_test, y_test)\n",
        "print(f\"Test accuracy: {test_acc}\")\n",
        "\n",
        "# Calculate metrics\n",
        "y_pred = np.argmax(model.predict(X_test), axis=1)\n",
        "precision = precision_score(y_test, y_pred, average='binary')\n",
        "recall = recall_score(y_test, y_pred, average='binary')\n",
        "f1 = f1_score(y_test, y_pred, average='binary')\n",
        "roc_auc = roc_auc_score(y_test, y_pred)\n",
        "\n",
        "# Display metrics\n",
        "print(f\"Precision: {precision}\")\n",
        "print(f\"Recall: {recall}\")\n",
        "print(f\"F1 Score: {f1}\")\n",
        "print(f\"AUC-ROC: {roc_auc}\")\n",
        "\n",
        "# Plot confusion matrix\n",
        "ConfusionMatrixDisplay.from_predictions(y_test, y_pred, display_labels=['Chainsaw', 'No Chainsaw'])\n",
        "plt.show()\n",
        "\n",
        "# Plotting training and validation accuracy\n",
        "plt.plot(history.history['accuracy'], label='accuracy')\n",
        "plt.plot(history.history['val_accuracy'], label = 'val_accuracy')\n",
        "plt.xlabel('Epoch')\n",
        "plt.ylabel('Accuracy')\n",
        "plt.ylim([0, 1])\n",
        "plt.legend(loc='lower right')\n",
        "plt.show()"
      ],
      "metadata": {
        "id": "aa54hcoiojfg",
        "colab": {
          "base_uri": "https://localhost:8080/",
          "height": 1000
        },
        "outputId": "f1e1d730-5e76-435a-e6a3-8df977f9f15d"
      },
      "execution_count": 8,
      "outputs": [
        {
          "output_type": "stream",
          "name": "stdout",
          "text": [
            "7/7 [==============================] - 0s 15ms/step - loss: 0.4494 - accuracy: 0.9950\n",
            "Test accuracy: 0.9950248599052429\n",
            "7/7 [==============================] - 0s 13ms/step\n",
            "Precision: 0.9949494949494949\n",
            "Recall: 1.0\n",
            "F1 Score: 0.9974683544303797\n",
            "AUC-ROC: 0.875\n"
          ]
        },
        {
          "output_type": "display_data",
          "data": {
            "text/plain": [
              "<Figure size 640x480 with 2 Axes>"
            ],
            "image/png": "[encoded data removed]"
          },
          "metadata": {}
        },
        {
          "output_type": "display_data",
          "data": {
            "text/plain": [
              "<Figure size 640x480 with 1 Axes>"
            ],
            "image/png": "[encoded data removed]"
          },
          "metadata": {}
        }
      ]
    },
    {
      "cell_type": "code",
      "source": [],
      "metadata": {
        "id": "zxqz7s9MDG3s"
      },
      "execution_count": null,
      "outputs": []
    }
  ]
}