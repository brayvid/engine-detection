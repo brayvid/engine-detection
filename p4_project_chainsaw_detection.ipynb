{
  "nbformat": 4,
  "nbformat_minor": 0,
  "metadata": {
    "colab": {
      "provenance": [],
      "gpuType": "T4",
      "toc_visible": true
    },
    "kernelspec": {
      "name": "python3",
      "display_name": "Python 3"
    },
    "language_info": {
      "name": "python"
    },
    "accelerator": "GPU"
  },
  "cells": [
    {
      "cell_type": "markdown",
      "source": [
        "# Detect the sound of engines with machine learning\n",
        "<h4>Blake Rayvid - <a href=https://github.com/brayvid>https://github.com/brayvid</a></h4>"
      ],
      "metadata": {
        "id": "MlPv0p-sosw5"
      }
    },
    {
      "cell_type": "markdown",
      "source": [
        "# Start from scratch from dataset"
      ],
      "metadata": {
        "id": "SA_IYU_4opdY"
      }
    },
    {
      "cell_type": "code",
      "source": [
        "!pip install resampy"
      ],
      "metadata": {
        "id": "58zWtLu5TK-Q"
      },
      "execution_count": null,
      "outputs": []
    },
    {
      "cell_type": "code",
      "execution_count": null,
      "metadata": {
        "id": "6y9ryX8HoWd7"
      },
      "outputs": [],
      "source": [
        "# Generate X and y from audio files - MFCC, mean power, entropy\n",
        "import os\n",
        "import numpy as np\n",
        "import librosa\n",
        "import logging\n",
        "from sklearn.preprocessing import LabelEncoder\n",
        "from scipy.stats import entropy\n",
        "\n",
        "logging.basicConfig(level=logging.DEBUG)\n",
        "\n",
        "def extract_features(file_path, max_len=212):\n",
        "    try:\n",
        "        # Load audio file\n",
        "        audio, sample_rate = librosa.load(file_path, sr=44100, res_type='kaiser_fast')\n",
        "\n",
        "        # Generate MFCC\n",
        "        mfcc = librosa.feature.mfcc(y=audio, sr=sample_rate, n_mfcc=13, n_fft=2048, hop_length=512)\n",
        "\n",
        "        # Calculate mean power\n",
        "        mean_power = np.mean(librosa.feature.rms(y=audio))\n",
        "\n",
        "        # Calculate entropy\n",
        "        power_spectrum = np.abs(librosa.stft(audio, n_fft=2048, hop_length=512))**2\n",
        "        power_distribution = power_spectrum / np.sum(power_spectrum)\n",
        "        signal_entropy = entropy(np.mean(power_distribution, axis=1))\n",
        "\n",
        "        # Pad or truncate MFCC\n",
        "        if mfcc.shape[1] < max_len:\n",
        "            pad_width = max_len - mfcc.shape[1]\n",
        "            mfcc = np.pad(mfcc, pad_width=((0, 0), (0, pad_width)), mode='constant')\n",
        "        else:\n",
        "            mfcc = mfcc[:, :max_len]\n",
        "\n",
        "        # Add mean power and entropy as features\n",
        "        mean_power_feature = np.full((1, max_len), mean_power)\n",
        "        entropy_feature = np.full((1, max_len), signal_entropy)\n",
        "        features = np.vstack((mfcc, mean_power_feature, entropy_feature))\n",
        "\n",
        "        return features\n",
        "\n",
        "    except FileNotFoundError:\n",
        "        logging.error(f\"File not found: {file_path}\")\n",
        "        return None\n",
        "    except ValueError as ve:\n",
        "        logging.error(f\"Value error while processing file {file_path}: {ve}\")\n",
        "        return None\n",
        "    except Exception as e:\n",
        "        logging.error(f\"Error processing file {file_path}: {e}\")\n",
        "        return None\n",
        "\n",
        "def load_data(data_dir, max_len=212):\n",
        "    features = []\n",
        "    labels = []\n",
        "    class_names = ['engine', 'non_engine']\n",
        "\n",
        "    for class_name in class_names:\n",
        "        class_dir = os.path.join(data_dir, class_name)\n",
        "        for file_name in os.listdir(class_dir):\n",
        "            file_path = os.path.join(class_dir, file_name)\n",
        "            if file_path.endswith('.wav'):\n",
        "                data = extract_features(file_path, max_len=max_len)\n",
        "                if data is not None:\n",
        "                    features.append(data)\n",
        "                    labels.append(class_name)\n",
        "\n",
        "    return np.array(features), np.array(labels)\n",
        "\n",
        "# Load data\n",
        "data_dir = '/content/drive/MyDrive/PROJECTS/Flatiron/Phase_4_Project/data'\n",
        "max_len = 212\n",
        "X, y = load_data(data_dir, max_len=max_len)\n",
        "\n",
        "if len(X) == 0:\n",
        "    logging.error(\"No valid features extracted.\")\n",
        "else:\n",
        "    logging.info(f\"Extracted features from {len(X)} files.\")\n",
        "\n",
        "# Encode labels\n",
        "le = LabelEncoder()\n",
        "y = le.fit_transform(y)\n",
        "\n",
        "\n",
        "# Class names\n",
        "class_names = le.classes_"
      ]
    },
    {
      "cell_type": "code",
      "source": [
        "import pickle\n",
        "\n",
        "# Save X and y to files using pickle\n",
        "with open('/content/drive/MyDrive/PROJECTS/Flatiron/Phase_4_Project/X_engine.pkl', 'wb') as f:\n",
        "    pickle.dump(X, f)\n",
        "with open('/content/drive/MyDrive/PROJECTS/Flatiron/Phase_4_Project/y_engine.pkl', 'wb') as f:\n",
        "    pickle.dump(y, f)"
      ],
      "metadata": {
        "id": "o2cgfAfH6p45"
      },
      "execution_count": null,
      "outputs": []
    },
    {
      "cell_type": "markdown",
      "source": [
        "# Start from saved pickle files"
      ],
      "metadata": {
        "id": "yrCx3ala7HQb"
      }
    },
    {
      "cell_type": "code",
      "source": [
        "import pickle\n",
        "\n",
        "# Load X and y from pickle file\n",
        "with open('/content/drive/MyDrive/PROJECTS/Flatiron/Phase_4_Project/X_engine.pkl', 'rb') as f:\n",
        "    X = pickle.load(f)\n",
        "with open('/content/drive/MyDrive/PROJECTS/Flatiron/Phase_4_Project/y_engine.pkl', 'rb') as f:\n",
        "    y = pickle.load(f)"
      ],
      "metadata": {
        "id": "Z9KDwjyh7BVx"
      },
      "execution_count": null,
      "outputs": []
    },
    {
      "cell_type": "code",
      "source": [
        "from sklearn.model_selection import train_test_split\n",
        "\n",
        "# Train-test split\n",
        "X_train, X_test, y_train, y_test = train_test_split(X, y, test_size=0.1, stratify=y)"
      ],
      "metadata": {
        "id": "PkoF5GSn7sIt"
      },
      "execution_count": null,
      "outputs": []
    },
    {
      "cell_type": "markdown",
      "source": [
        "# CNN classifier"
      ],
      "metadata": {
        "id": "y87dpo0pon9r"
      }
    },
    {
      "cell_type": "code",
      "source": [
        "import numpy as np\n",
        "from tensorflow.keras.models import Sequential\n",
        "from tensorflow.keras.layers import Conv2D, BatchNormalization, ReLU, MaxPooling2D, Flatten, Dense, Dropout\n",
        "from tensorflow.keras.callbacks import EarlyStopping\n",
        "\n",
        "# Adjust input shape\n",
        "num_features = 15  # 13 MFCCs + 1 mean power + 1 entropy\n",
        "input_shape = (num_features, X_train.shape[2], 1)\n",
        "\n",
        "# Reshape data\n",
        "X_train = X_train.reshape(X_train.shape[0], num_features, X_train.shape[2], 1)\n",
        "X_test = X_test.reshape(X_test.shape[0], num_features, X_test.shape[2], 1)\n",
        "\n",
        "model = Sequential()\n",
        "\n",
        "# First convolutional layer\n",
        "model.add(Conv2D(32, (3, 3), padding='same', input_shape=input_shape))\n",
        "model.add(BatchNormalization())\n",
        "model.add(ReLU())\n",
        "model.add(MaxPooling2D((2, 2)))\n",
        "\n",
        "# Second convolutional layer\n",
        "model.add(Conv2D(64, (3, 3), padding='same'))\n",
        "model.add(BatchNormalization())\n",
        "model.add(ReLU())\n",
        "model.add(MaxPooling2D((2, 2)))\n",
        "\n",
        "# Third convolutional layer\n",
        "model.add(Conv2D(128, (3, 3), padding='same'))\n",
        "model.add(BatchNormalization())\n",
        "model.add(ReLU())\n",
        "model.add(MaxPooling2D((2, 2)))\n",
        "\n",
        "# Flatten and dense layers\n",
        "model.add(Flatten())\n",
        "model.add(Dense(128, activation='relu'))\n",
        "model.add(Dropout(0.5))\n",
        "model.add(Dense(2, activation='softmax'))\n",
        "\n",
        "# Compile model\n",
        "model.compile(optimizer='adam',\n",
        "              loss='sparse_categorical_crossentropy',\n",
        "              metrics=['accuracy'])\n",
        "\n",
        "# Summary of model\n",
        "model.summary()\n",
        "\n",
        "# Define early stopping callback\n",
        "early_stopping = EarlyStopping(monitor='val_loss', patience=10, restore_best_weights=True)\n",
        "\n",
        "# Train model with early stopping\n",
        "history = model.fit(X_train, y_train, epochs=50, validation_split=0.1, callbacks=[early_stopping])"
      ],
      "metadata": {
        "id": "AUBwbflRocsq",
        "colab": {
          "base_uri": "https://localhost:8080/"
        },
        "outputId": "97d170dd-3c67-414d-bd45-2f54a03bdea1"
      },
      "execution_count": null,
      "outputs": [
        {
          "output_type": "stream",
          "name": "stdout",
          "text": [
            "Model: \"sequential\"\n",
            "_________________________________________________________________\n",
            " Layer (type)                Output Shape              Param #   \n",
            "=================================================================\n",
            " conv2d (Conv2D)             (None, 15, 212, 32)       320       \n",
            "                                                                 \n",
            " batch_normalization (Batch  (None, 15, 212, 32)       128       \n",
            " Normalization)                                                  \n",
            "                                                                 \n",
            " re_lu (ReLU)                (None, 15, 212, 32)       0         \n",
            "                                                                 \n",
            " max_pooling2d (MaxPooling2  (None, 7, 106, 32)        0         \n",
            " D)                                                              \n",
            "                                                                 \n",
            " conv2d_1 (Conv2D)           (None, 7, 106, 64)        18496     \n",
            "                                                                 \n",
            " batch_normalization_1 (Bat  (None, 7, 106, 64)        256       \n",
            " chNormalization)                                                \n",
            "                                                                 \n",
            " re_lu_1 (ReLU)              (None, 7, 106, 64)        0         \n",
            "                                                                 \n",
            " max_pooling2d_1 (MaxPoolin  (None, 3, 53, 64)         0         \n",
            " g2D)                                                            \n",
            "                                                                 \n",
            " conv2d_2 (Conv2D)           (None, 3, 53, 128)        73856     \n",
            "                                                                 \n",
            " batch_normalization_2 (Bat  (None, 3, 53, 128)        512       \n",
            " chNormalization)                                                \n",
            "                                                                 \n",
            " re_lu_2 (ReLU)              (None, 3, 53, 128)        0         \n",
            "                                                                 \n",
            " max_pooling2d_2 (MaxPoolin  (None, 1, 26, 128)        0         \n",
            " g2D)                                                            \n",
            "                                                                 \n",
            " flatten (Flatten)           (None, 3328)              0         \n",
            "                                                                 \n",
            " dense (Dense)               (None, 128)               426112    \n",
            "                                                                 \n",
            " dropout (Dropout)           (None, 128)               0         \n",
            "                                                                 \n",
            " dense_1 (Dense)             (None, 2)                 258       \n",
            "                                                                 \n",
            "=================================================================\n",
            "Total params: 519938 (1.98 MB)\n",
            "Trainable params: 519490 (1.98 MB)\n",
            "Non-trainable params: 448 (1.75 KB)\n",
            "_________________________________________________________________\n",
            "Epoch 1/50\n",
            "51/51 [==============================] - 9s 25ms/step - loss: 0.4075 - accuracy: 0.8642 - val_loss: 0.3707 - val_accuracy: 0.8950\n",
            "Epoch 2/50\n",
            "51/51 [==============================] - 0s 8ms/step - loss: 0.2532 - accuracy: 0.8790 - val_loss: 0.2524 - val_accuracy: 0.8895\n",
            "Epoch 3/50\n",
            "51/51 [==============================] - 0s 8ms/step - loss: 0.2385 - accuracy: 0.8815 - val_loss: 0.2495 - val_accuracy: 0.8564\n",
            "Epoch 4/50\n",
            "51/51 [==============================] - 0s 8ms/step - loss: 0.2462 - accuracy: 0.8827 - val_loss: 0.2484 - val_accuracy: 0.8619\n",
            "Epoch 5/50\n",
            "51/51 [==============================] - 0s 8ms/step - loss: 0.2211 - accuracy: 0.8926 - val_loss: 0.2512 - val_accuracy: 0.8895\n",
            "Epoch 6/50\n",
            "51/51 [==============================] - 0s 8ms/step - loss: 0.2300 - accuracy: 0.8963 - val_loss: 0.2679 - val_accuracy: 0.8729\n",
            "Epoch 7/50\n",
            "51/51 [==============================] - 0s 8ms/step - loss: 0.2170 - accuracy: 0.8932 - val_loss: 0.2399 - val_accuracy: 0.8729\n",
            "Epoch 8/50\n",
            "51/51 [==============================] - 0s 9ms/step - loss: 0.2097 - accuracy: 0.9006 - val_loss: 0.2723 - val_accuracy: 0.8564\n",
            "Epoch 9/50\n",
            "51/51 [==============================] - 1s 10ms/step - loss: 0.2227 - accuracy: 0.8870 - val_loss: 0.2445 - val_accuracy: 0.8564\n",
            "Epoch 10/50\n",
            "51/51 [==============================] - 1s 10ms/step - loss: 0.2171 - accuracy: 0.8969 - val_loss: 0.2655 - val_accuracy: 0.8840\n",
            "Epoch 11/50\n",
            "51/51 [==============================] - 0s 9ms/step - loss: 0.2081 - accuracy: 0.8926 - val_loss: 0.2478 - val_accuracy: 0.8785\n",
            "Epoch 12/50\n",
            "51/51 [==============================] - 1s 10ms/step - loss: 0.2074 - accuracy: 0.8914 - val_loss: 0.2264 - val_accuracy: 0.8950\n",
            "Epoch 13/50\n",
            "51/51 [==============================] - 1s 11ms/step - loss: 0.1882 - accuracy: 0.9037 - val_loss: 0.3353 - val_accuracy: 0.8729\n",
            "Epoch 14/50\n",
            "51/51 [==============================] - 1s 11ms/step - loss: 0.2241 - accuracy: 0.8969 - val_loss: 0.2857 - val_accuracy: 0.8950\n",
            "Epoch 15/50\n",
            "51/51 [==============================] - 1s 11ms/step - loss: 0.2162 - accuracy: 0.9037 - val_loss: 0.2396 - val_accuracy: 0.9061\n",
            "Epoch 16/50\n",
            "51/51 [==============================] - 0s 8ms/step - loss: 0.2030 - accuracy: 0.8963 - val_loss: 0.2300 - val_accuracy: 0.8785\n",
            "Epoch 17/50\n",
            "51/51 [==============================] - 0s 8ms/step - loss: 0.1892 - accuracy: 0.9006 - val_loss: 0.2696 - val_accuracy: 0.8785\n",
            "Epoch 18/50\n",
            "51/51 [==============================] - 0s 8ms/step - loss: 0.1908 - accuracy: 0.9074 - val_loss: 0.2227 - val_accuracy: 0.9116\n",
            "Epoch 19/50\n",
            "51/51 [==============================] - 0s 8ms/step - loss: 0.1793 - accuracy: 0.9130 - val_loss: 0.2294 - val_accuracy: 0.9116\n",
            "Epoch 20/50\n",
            "51/51 [==============================] - 0s 8ms/step - loss: 0.1836 - accuracy: 0.9111 - val_loss: 0.2627 - val_accuracy: 0.9116\n",
            "Epoch 21/50\n",
            "51/51 [==============================] - 0s 8ms/step - loss: 0.1872 - accuracy: 0.9117 - val_loss: 0.2630 - val_accuracy: 0.8785\n",
            "Epoch 22/50\n",
            "51/51 [==============================] - 0s 8ms/step - loss: 0.1747 - accuracy: 0.9130 - val_loss: 0.2483 - val_accuracy: 0.9116\n",
            "Epoch 23/50\n",
            "51/51 [==============================] - 0s 8ms/step - loss: 0.1800 - accuracy: 0.9105 - val_loss: 0.2436 - val_accuracy: 0.9061\n",
            "Epoch 24/50\n",
            "51/51 [==============================] - 0s 8ms/step - loss: 0.1756 - accuracy: 0.9111 - val_loss: 0.3566 - val_accuracy: 0.8729\n",
            "Epoch 25/50\n",
            "51/51 [==============================] - 0s 8ms/step - loss: 0.1630 - accuracy: 0.9259 - val_loss: 0.2400 - val_accuracy: 0.9006\n",
            "Epoch 26/50\n",
            "51/51 [==============================] - 0s 8ms/step - loss: 0.1540 - accuracy: 0.9290 - val_loss: 0.3047 - val_accuracy: 0.8564\n",
            "Epoch 27/50\n",
            "51/51 [==============================] - 0s 8ms/step - loss: 0.1607 - accuracy: 0.9191 - val_loss: 0.2174 - val_accuracy: 0.8895\n",
            "Epoch 28/50\n",
            "51/51 [==============================] - 0s 8ms/step - loss: 0.1449 - accuracy: 0.9395 - val_loss: 0.2473 - val_accuracy: 0.9006\n",
            "Epoch 29/50\n",
            "51/51 [==============================] - 0s 7ms/step - loss: 0.1359 - accuracy: 0.9395 - val_loss: 0.2391 - val_accuracy: 0.8950\n",
            "Epoch 30/50\n",
            "51/51 [==============================] - 0s 8ms/step - loss: 0.1328 - accuracy: 0.9358 - val_loss: 0.3591 - val_accuracy: 0.8840\n",
            "Epoch 31/50\n",
            "51/51 [==============================] - 0s 8ms/step - loss: 0.1354 - accuracy: 0.9352 - val_loss: 0.2808 - val_accuracy: 0.9116\n",
            "Epoch 32/50\n",
            "51/51 [==============================] - 0s 8ms/step - loss: 0.1336 - accuracy: 0.9463 - val_loss: 0.2900 - val_accuracy: 0.8785\n",
            "Epoch 33/50\n",
            "51/51 [==============================] - 0s 8ms/step - loss: 0.1343 - accuracy: 0.9395 - val_loss: 0.2998 - val_accuracy: 0.8950\n",
            "Epoch 34/50\n",
            "51/51 [==============================] - 0s 8ms/step - loss: 0.1340 - accuracy: 0.9475 - val_loss: 0.3027 - val_accuracy: 0.8564\n",
            "Epoch 35/50\n",
            "51/51 [==============================] - 0s 8ms/step - loss: 0.1232 - accuracy: 0.9438 - val_loss: 0.2652 - val_accuracy: 0.9006\n",
            "Epoch 36/50\n",
            "51/51 [==============================] - 0s 8ms/step - loss: 0.1280 - accuracy: 0.9395 - val_loss: 0.3377 - val_accuracy: 0.8785\n",
            "Epoch 37/50\n",
            "51/51 [==============================] - 0s 8ms/step - loss: 0.1404 - accuracy: 0.9327 - val_loss: 0.3837 - val_accuracy: 0.9006\n"
          ]
        }
      ]
    },
    {
      "cell_type": "markdown",
      "source": [
        "## Evaluate"
      ],
      "metadata": {
        "id": "P4NqekWOoj-9"
      }
    },
    {
      "cell_type": "code",
      "source": [
        "import matplotlib.pyplot as plt\n",
        "import numpy as np\n",
        "from sklearn.metrics import roc_auc_score, classification_report, ConfusionMatrixDisplay\n",
        "\n",
        "# Evaluate model\n",
        "test_loss, test_acc = model.evaluate(X_test, y_test)\n",
        "print(f\"Test accuracy: {test_acc}\")\n",
        "\n",
        "# Get test set predictions\n",
        "y_pred = np.argmax(model.predict(X_test), axis=1)\n",
        "\n",
        "# Display ROC-AUC score\n",
        "roc_auc = roc_auc_score(y_test, y_pred)\n",
        "print(f\"ROC-AUC: {roc_auc}\")\n",
        "\n",
        "# Classification report\n",
        "print(classification_report(y_test, y_pred, target_names=['engine', 'non-engine']))\n",
        "\n",
        "# Plot confusion matrix\n",
        "ConfusionMatrixDisplay.from_predictions(y_test, y_pred, display_labels=['Engine', 'No Engine'])\n",
        "plt.show()\n",
        "\n",
        "# # Plot train and validation accuracy over all epochs\n",
        "# plt.plot(history.history['accuracy'], label='accuracy')\n",
        "# plt.plot(history.history['val_accuracy'], label = 'val_accuracy')\n",
        "# plt.xlabel('Epoch')\n",
        "# plt.ylabel('Accuracy')\n",
        "# plt.ylim([0, 1])\n",
        "# plt.legend(loc='lower right')\n",
        "# plt.show()"
      ],
      "metadata": {
        "id": "aa54hcoiojfg",
        "colab": {
          "base_uri": "https://localhost:8080/",
          "height": 681
        },
        "outputId": "e4f375eb-1b97-46ea-a59c-2b0ce38439b9"
      },
      "execution_count": null,
      "outputs": [
        {
          "output_type": "stream",
          "name": "stdout",
          "text": [
            "7/7 [==============================] - 0s 43ms/step - loss: 0.1671 - accuracy: 0.9204\n",
            "Test accuracy: 0.9203979969024658\n",
            "7/7 [==============================] - 0s 3ms/step\n",
            "ROC-AUC: 0.7927259887005651\n",
            "              precision    recall  f1-score   support\n",
            "\n",
            "      engine       0.68      0.62      0.65        24\n",
            "  non-engine       0.95      0.96      0.96       177\n",
            "\n",
            "    accuracy                           0.92       201\n",
            "   macro avg       0.82      0.79      0.80       201\n",
            "weighted avg       0.92      0.92      0.92       201\n",
            "\n"
          ]
        },
        {
          "output_type": "display_data",
          "data": {
            "text/plain": [
              "<Figure size 640x480 with 2 Axes>"
            ],
            "image/png": "[encoded data removed]"
          },
          "metadata": {}
        }
      ]
    },
    {
      "cell_type": "markdown",
      "source": [
        "## Notes\n",
        "- <s>Poor recall w/r/t engine class. Misclassifies most true engines.</s> Doing better with the additional features.\n",
        "- Whether the model classifies engines correctly or not depends strongly on the particular train test split."
      ],
      "metadata": {
        "id": "sAFQWIb4rRE9"
      }
    },
    {
      "cell_type": "markdown",
      "source": [
        "# XGBoost classifier ⭐️"
      ],
      "metadata": {
        "id": "iGQ1DexRBhjV"
      }
    },
    {
      "cell_type": "code",
      "source": [
        "import numpy as np\n",
        "import pandas as pd\n",
        "import matplotlib.pyplot as plt\n",
        "from sklearn.preprocessing import StandardScaler\n",
        "from sklearn.pipeline import Pipeline\n",
        "from sklearn.model_selection import train_test_split, RandomizedSearchCV\n",
        "from sklearn.metrics import roc_auc_score, classification_report, ConfusionMatrixDisplay\n",
        "import joblib\n",
        "from xgboost import XGBClassifier\n",
        "from scipy.stats import uniform, randint\n",
        "\n",
        "# Assume X and y are already loaded and have the appropriate shapes\n",
        "# X should be (num_samples, height, width, channels)\n",
        "# y should be (num_samples,)\n",
        "\n",
        "# Flatten the image data to 2D array for XGBoost\n",
        "X_flat = X.reshape(X.shape[0], -1)\n",
        "\n",
        "# Split the data into training and testing sets with 10% test size\n",
        "X_train, X_test, y_train, y_test = train_test_split(X_flat, y, test_size=0.1, stratify=y)\n",
        "\n",
        "# Create a pipeline with StandardScaler and XGBClassifier configured to use GPU\n",
        "pipeline = Pipeline([\n",
        "    ('scaler', StandardScaler()),\n",
        "    ('xgb', XGBClassifier(eval_metric='logloss', tree_method='hist', device='cuda'))\n",
        "])\n",
        "\n",
        "# Define a smaller parameter grid for RandomizedSearchCV\n",
        "param_dist = {\n",
        "    'xgb__n_estimators': randint(50, 100),\n",
        "    'xgb__max_depth': randint(3, 6),\n",
        "    'xgb__learning_rate': uniform(0.01, 0.1)\n",
        "}\n",
        "\n",
        "# Use threading backend to avoid memory issues with loky\n",
        "with joblib.parallel_backend('threading'):\n",
        "    random_search = RandomizedSearchCV(pipeline, param_distributions=param_dist, n_iter=10, cv=3, scoring='roc_auc', n_jobs=2)\n",
        "    random_search.fit(X_train, y_train)\n",
        "\n",
        "# Save the model for later use\n",
        "joblib.dump(random_search.best_estimator_, '/content/drive/MyDrive/PROJECTS/Flatiron/Phase_4_Project/xgb_model.pkl')\n"
      ],
      "metadata": {
        "id": "Jl46F_zUvxTh",
        "colab": {
          "base_uri": "https://localhost:8080/"
        },
        "outputId": "162e36bb-f8c7-4ad4-a42f-4c45ca2365c9"
      },
      "execution_count": null,
      "outputs": [
        {
          "output_type": "execute_result",
          "data": {
            "text/plain": [
              "['xgb_model.pkl']"
            ]
          },
          "metadata": {},
          "execution_count": 16
        }
      ]
    },
    {
      "cell_type": "markdown",
      "source": [
        "## Evaluate"
      ],
      "metadata": {
        "id": "2Z2ylqNTRc_z"
      }
    },
    {
      "cell_type": "code",
      "source": [
        "# Print the best parameters and best score\n",
        "print(\"Best parameters found: \", random_search.best_params_)\n",
        "print(\"Best cross-validation ROC-AUC: \", random_search.best_score_)\n",
        "\n",
        "# Evaluate the model on the test set\n",
        "xgb_predictions = random_search.predict(X_test)\n",
        "\n",
        "# Display ROC-AUC\n",
        "roc_auc = roc_auc_score(y_test, xgb_predictions)\n",
        "print(f\"ROC-AUC: {roc_auc}\")\n",
        "\n",
        "# Classification report\n",
        "print(classification_report(y_test, xgb_predictions, target_names=['engine', 'non-engine']))\n",
        "\n",
        "# Plot confusion matrix\n",
        "ConfusionMatrixDisplay.from_predictions(y_test, xgb_predictions, display_labels=['Engine', 'No Engine'])\n",
        "plt.show()"
      ],
      "metadata": {
        "colab": {
          "base_uri": "https://localhost:8080/",
          "height": 663
        },
        "id": "Xa6UCl24JHih",
        "outputId": "9127d161-3341-4e42-fbc4-ffb71d974a9e"
      },
      "execution_count": null,
      "outputs": [
        {
          "output_type": "stream",
          "name": "stdout",
          "text": [
            "Best parameters found:  {'xgb__learning_rate': 0.0965260568447746, 'xgb__max_depth': 4, 'xgb__n_estimators': 94}\n",
            "Best cross-validation ROC-AUC:  0.9196768840481123\n",
            "ROC-AUC: 0.8079096045197741\n",
            "              precision    recall  f1-score   support\n",
            "\n",
            "      engine       0.64      0.67      0.65        24\n",
            "  non-engine       0.95      0.95      0.95       177\n",
            "\n",
            "    accuracy                           0.92       201\n",
            "   macro avg       0.80      0.81      0.80       201\n",
            "weighted avg       0.92      0.92      0.92       201\n",
            "\n"
          ]
        },
        {
          "output_type": "display_data",
          "data": {
            "text/plain": [
              "<Figure size 640x480 with 2 Axes>"
            ],
            "image/png": "[encoded data removed]"
          },
          "metadata": {}
        }
      ]
    },
    {
      "cell_type": "markdown",
      "source": [
        "## Notes\n",
        "- <s>Poor recall w/r/t engine class.</s> Fixed with the additional features.\n"
      ],
      "metadata": {
        "id": "w7oFELnwRgcC"
      }
    },
    {
      "cell_type": "markdown",
      "source": [
        "# Model comparison\n",
        "<table>\n",
        "<th>Model\n",
        "<td>ROC-AUC\n",
        "<td>F1-Engine\n",
        "<td>Recall-Engine\n",
        "<td>Best\n",
        "</th>\n",
        "<tr>\n",
        "<td>XGBoost\n",
        "<td>0.81\n",
        "<td>0.65\n",
        "<td>0.67\n",
        "<td>⭐️\n",
        "</tr>\n",
        "<tr>\n",
        "<td>CNN\n",
        "<td>0.79\n",
        "<td>0.65\n",
        "<td>0.62\n",
        "<td>\n",
        "</tr>\n",
        "</table>"
      ],
      "metadata": {
        "id": "st-ozWRmZQKG"
      }
    },
    {
      "cell_type": "markdown",
      "source": [
        "# To do\n",
        "- <s>Perform more advanced feature extraction before passing to a model.</s> Done.\n",
        "- Make visualizations and slides for presentation."
      ],
      "metadata": {
        "id": "Sae05FkVTcnm"
      }
    },
    {
      "cell_type": "code",
      "source": [],
      "metadata": {
        "id": "7qBjUsTdVU9P"
      },
      "execution_count": null,
      "outputs": []
    }
  ]
}