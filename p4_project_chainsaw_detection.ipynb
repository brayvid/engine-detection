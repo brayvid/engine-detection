{
  "nbformat": 4,
  "nbformat_minor": 0,
  "metadata": {
    "colab": {
      "provenance": []
    },
    "kernelspec": {
      "name": "python3",
      "display_name": "Python 3"
    },
    "language_info": {
      "name": "python"
    }
  },
  "cells": [
    {
      "cell_type": "markdown",
      "source": [
        "# Illegal Logging Detection\n",
        "<h4>Blake Rayvid - <a href=https://github.com/brayvid>https://github.com/brayvid</a></h4>"
      ],
      "metadata": {
        "id": "MlPv0p-sosw5"
      }
    },
    {
      "cell_type": "markdown",
      "source": [
        "# Feature extraction"
      ],
      "metadata": {
        "id": "SA_IYU_4opdY"
      }
    },
    {
      "cell_type": "code",
      "execution_count": 2,
      "metadata": {
        "id": "6y9ryX8HoWd7"
      },
      "outputs": [],
      "source": [
        "import os\n",
        "import numpy as np\n",
        "import librosa\n",
        "import logging\n",
        "\n",
        "logging.basicConfig(level=logging.DEBUG)\n",
        "\n",
        "def extract_features(file_path, max_len=200):\n",
        "    try:\n",
        "        logging.debug(f\"Attempting to load {file_path}\")\n",
        "\n",
        "        # Load the audio file\n",
        "        audio, sample_rate = librosa.load(file_path, res_type='kaiser_fast')\n",
        "        logging.debug(f\"Loaded {file_path}: audio shape {audio.shape}, sample rate {sample_rate}\")\n",
        "\n",
        "        # Generate Mel-spectrogram\n",
        "        mel_spectrogram = librosa.feature.melspectrogram(y=audio, sr=sample_rate, n_mels=128)\n",
        "        logging.debug(f\"Generated Mel-spectrogram for {file_path}: shape {mel_spectrogram.shape}\")\n",
        "\n",
        "        # Convert power spectrogram to decibel units\n",
        "        log_mel_spectrogram = librosa.power_to_db(mel_spectrogram, ref=np.max)\n",
        "        logging.debug(f\"Converted Mel-spectrogram to dB for {file_path}: shape {log_mel_spectrogram.shape}\")\n",
        "\n",
        "        # Pad or truncate Mel-spectrogram to ensure consistent length\n",
        "        if log_mel_spectrogram.shape[1] < max_len:\n",
        "            pad_width = max_len - log_mel_spectrogram.shape[1]\n",
        "            log_mel_spectrogram = np.pad(log_mel_spectrogram, pad_width=((0, 0), (0, pad_width)), mode='constant')\n",
        "        else:\n",
        "            log_mel_spectrogram = log_mel_spectrogram[:, :max_len]\n",
        "\n",
        "        return log_mel_spectrogram\n",
        "\n",
        "    except FileNotFoundError:\n",
        "        logging.error(f\"File not found: {file_path}\")\n",
        "        return None\n",
        "    except ValueError as ve:\n",
        "        logging.error(f\"Value error while processing file {file_path}: {ve}\")\n",
        "        return None\n",
        "    except Exception as e:\n",
        "        logging.error(f\"Error processing file {file_path}: {e}\")\n",
        "        return None\n",
        "\n",
        "def load_data(data_dir, max_len=200):\n",
        "    features = []\n",
        "    labels = []\n",
        "    class_names = ['chainsaw', 'non_chainsaw']\n",
        "\n",
        "    for class_name in class_names:\n",
        "        class_dir = os.path.join(data_dir, class_name)\n",
        "        for file_name in os.listdir(class_dir):\n",
        "            file_path = os.path.join(class_dir, file_name)\n",
        "            if file_path.endswith('.wav'):\n",
        "                data = extract_features(file_path, max_len=max_len)\n",
        "                if data is not None:\n",
        "                    features.append(data)\n",
        "                    labels.append(class_name)\n",
        "\n",
        "    return np.array(features), np.array(labels)\n",
        "\n",
        "# Example usage\n",
        "data_dir = '/content/drive/MyDrive/PROJECTS/Flatiron/Phase_4_Project/data'\n",
        "max_len = 200  # or adjust this to a suitable length based on your dataset\n",
        "X, y = load_data(data_dir, max_len=max_len)\n",
        "\n",
        "if len(X) == 0:\n",
        "    logging.error(\"No valid features extracted. Please check your audio files and directory structure.\")\n",
        "else:\n",
        "    logging.info(f\"Extracted features from {len(X)} files.\")\n",
        "\n",
        "# Encode labels\n",
        "from sklearn.preprocessing import LabelEncoder\n",
        "le = LabelEncoder()\n",
        "y = le.fit_transform(y)\n",
        "\n",
        "# Split data into training and testing sets\n",
        "from sklearn.model_selection import train_test_split\n",
        "X_train, X_test, y_train, y_test = train_test_split(X, y, test_size=0.2, random_state=42)"
      ]
    },
    {
      "cell_type": "markdown",
      "source": [
        "# Build model"
      ],
      "metadata": {
        "id": "y87dpo0pon9r"
      }
    },
    {
      "cell_type": "code",
      "source": [
        "import tensorflow as tf\n",
        "from tensorflow.keras import layers, models\n",
        "\n",
        "# Input shape: (number of samples, frequency bins, time frames, 1)\n",
        "input_shape = (128, X_train.shape[2], 1)\n",
        "X_train = X_train.reshape(X_train.shape[0], 128, X_train.shape[2], 1)\n",
        "X_test = X_test.reshape(X_test.shape[0], 128, X_test.shape[2], 1)\n",
        "\n",
        "model = models.Sequential()\n",
        "\n",
        "# First convolutional layer\n",
        "model.add(layers.Conv2D(32, (3, 3), activation='relu', input_shape=input_shape))\n",
        "model.add(layers.MaxPooling2D((2, 2)))\n",
        "model.add(layers.BatchNormalization())\n",
        "\n",
        "# Second convolutional layer\n",
        "model.add(layers.Conv2D(64, (3, 3), activation='relu'))\n",
        "model.add(layers.MaxPooling2D((2, 2)))\n",
        "model.add(layers.BatchNormalization())\n",
        "\n",
        "# Third convolutional layer\n",
        "model.add(layers.Conv2D(128, (3, 3), activation='relu'))\n",
        "model.add(layers.MaxPooling2D((2, 2)))\n",
        "model.add(layers.BatchNormalization())\n",
        "\n",
        "# Flatten and dense layers\n",
        "model.add(layers.Flatten())\n",
        "model.add(layers.Dense(128, activation='relu'))\n",
        "model.add(layers.Dropout(0.5))\n",
        "model.add(layers.Dense(2, activation='softmax'))\n",
        "\n",
        "# Compile the model\n",
        "model.compile(optimizer='adam',\n",
        "              loss='sparse_categorical_crossentropy',\n",
        "              metrics=['accuracy'])\n",
        "\n",
        "# Summary of the model\n",
        "model.summary()\n",
        "\n",
        "# Train the model\n",
        "history = model.fit(X_train, y_train, epochs=30, batch_size=32, validation_data=(X_test, y_test))\n"
      ],
      "metadata": {
        "id": "AUBwbflRocsq",
        "colab": {
          "base_uri": "https://localhost:8080/"
        },
        "outputId": "5dfaecc8-a3a4-4aea-ade9-e254b586f2c0"
      },
      "execution_count": 3,
      "outputs": [
        {
          "output_type": "stream",
          "name": "stdout",
          "text": [
            "Model: \"sequential\"\n",
            "_________________________________________________________________\n",
            " Layer (type)                Output Shape              Param #   \n",
            "=================================================================\n",
            " conv2d (Conv2D)             (None, 126, 198, 32)      320       \n",
            "                                                                 \n",
            " max_pooling2d (MaxPooling2  (None, 63, 99, 32)        0         \n",
            " D)                                                              \n",
            "                                                                 \n",
            " batch_normalization (Batch  (None, 63, 99, 32)        128       \n",
            " Normalization)                                                  \n",
            "                                                                 \n",
            " conv2d_1 (Conv2D)           (None, 61, 97, 64)        18496     \n",
            "                                                                 \n",
            " max_pooling2d_1 (MaxPoolin  (None, 30, 48, 64)        0         \n",
            " g2D)                                                            \n",
            "                                                                 \n",
            " batch_normalization_1 (Bat  (None, 30, 48, 64)        256       \n",
            " chNormalization)                                                \n",
            "                                                                 \n",
            " conv2d_2 (Conv2D)           (None, 28, 46, 128)       73856     \n",
            "                                                                 \n",
            " max_pooling2d_2 (MaxPoolin  (None, 14, 23, 128)       0         \n",
            " g2D)                                                            \n",
            "                                                                 \n",
            " batch_normalization_2 (Bat  (None, 14, 23, 128)       512       \n",
            " chNormalization)                                                \n",
            "                                                                 \n",
            " flatten (Flatten)           (None, 41216)             0         \n",
            "                                                                 \n",
            " dense (Dense)               (None, 128)               5275776   \n",
            "                                                                 \n",
            " dropout (Dropout)           (None, 128)               0         \n",
            "                                                                 \n",
            " dense_1 (Dense)             (None, 2)                 258       \n",
            "                                                                 \n",
            "=================================================================\n",
            "Total params: 5369602 (20.48 MB)\n",
            "Trainable params: 5369154 (20.48 MB)\n",
            "Non-trainable params: 448 (1.75 KB)\n",
            "_________________________________________________________________\n",
            "Epoch 1/30\n",
            "51/51 [==============================] - 104s 2s/step - loss: 2.3568 - accuracy: 0.9263 - val_loss: 6.2433 - val_accuracy: 0.9900\n",
            "Epoch 2/30\n",
            "51/51 [==============================] - 108s 2s/step - loss: 1.2884 - accuracy: 0.9663 - val_loss: 0.6041 - val_accuracy: 0.9900\n",
            "Epoch 3/30\n",
            "51/51 [==============================] - 102s 2s/step - loss: 0.3736 - accuracy: 0.9738 - val_loss: 0.1345 - val_accuracy: 0.9900\n",
            "Epoch 4/30\n",
            "51/51 [==============================] - 103s 2s/step - loss: 0.2881 - accuracy: 0.9769 - val_loss: 0.1543 - val_accuracy: 0.9900\n",
            "Epoch 5/30\n",
            "51/51 [==============================] - 109s 2s/step - loss: 0.1540 - accuracy: 0.9794 - val_loss: 0.3452 - val_accuracy: 0.9900\n",
            "Epoch 6/30\n",
            "51/51 [==============================] - 104s 2s/step - loss: 0.1445 - accuracy: 0.9800 - val_loss: 0.1130 - val_accuracy: 0.9900\n",
            "Epoch 7/30\n",
            "51/51 [==============================] - 103s 2s/step - loss: 0.0783 - accuracy: 0.9863 - val_loss: 0.0264 - val_accuracy: 0.9900\n",
            "Epoch 8/30\n",
            "51/51 [==============================] - 104s 2s/step - loss: 0.0504 - accuracy: 0.9881 - val_loss: 0.0521 - val_accuracy: 0.9900\n",
            "Epoch 9/30\n",
            "51/51 [==============================] - 102s 2s/step - loss: 0.0455 - accuracy: 0.9900 - val_loss: 0.0521 - val_accuracy: 0.9925\n",
            "Epoch 10/30\n",
            "51/51 [==============================] - 99s 2s/step - loss: 0.0623 - accuracy: 0.9844 - val_loss: 0.0429 - val_accuracy: 0.9925\n",
            "Epoch 11/30\n",
            "51/51 [==============================] - 113s 2s/step - loss: 0.0242 - accuracy: 0.9906 - val_loss: 0.0462 - val_accuracy: 0.9925\n",
            "Epoch 12/30\n",
            "51/51 [==============================] - 104s 2s/step - loss: 0.0436 - accuracy: 0.9900 - val_loss: 0.0526 - val_accuracy: 0.9875\n",
            "Epoch 13/30\n",
            "51/51 [==============================] - 99s 2s/step - loss: 0.0333 - accuracy: 0.9913 - val_loss: 0.0452 - val_accuracy: 0.9925\n",
            "Epoch 14/30\n",
            "51/51 [==============================] - 93s 2s/step - loss: 0.0432 - accuracy: 0.9881 - val_loss: 0.0217 - val_accuracy: 0.9925\n",
            "Epoch 15/30\n",
            "51/51 [==============================] - 98s 2s/step - loss: 0.0189 - accuracy: 0.9925 - val_loss: 0.0807 - val_accuracy: 0.9925\n",
            "Epoch 16/30\n",
            "51/51 [==============================] - 97s 2s/step - loss: 0.0389 - accuracy: 0.9863 - val_loss: 0.0931 - val_accuracy: 0.9900\n",
            "Epoch 17/30\n",
            "51/51 [==============================] - 94s 2s/step - loss: 0.0433 - accuracy: 0.9913 - val_loss: 0.0454 - val_accuracy: 0.9925\n",
            "Epoch 18/30\n",
            "51/51 [==============================] - 95s 2s/step - loss: 0.0157 - accuracy: 0.9944 - val_loss: 0.0601 - val_accuracy: 0.9925\n",
            "Epoch 19/30\n",
            "51/51 [==============================] - 102s 2s/step - loss: 0.0144 - accuracy: 0.9956 - val_loss: 0.0569 - val_accuracy: 0.9875\n",
            "Epoch 20/30\n",
            "51/51 [==============================] - 93s 2s/step - loss: 0.0239 - accuracy: 0.9931 - val_loss: 0.0476 - val_accuracy: 0.9950\n",
            "Epoch 21/30\n",
            "51/51 [==============================] - 94s 2s/step - loss: 0.0159 - accuracy: 0.9963 - val_loss: 0.0551 - val_accuracy: 0.9950\n",
            "Epoch 22/30\n",
            "51/51 [==============================] - 100s 2s/step - loss: 0.0145 - accuracy: 0.9956 - val_loss: 0.0481 - val_accuracy: 0.9950\n",
            "Epoch 23/30\n",
            "51/51 [==============================] - 99s 2s/step - loss: 0.0504 - accuracy: 0.9888 - val_loss: 0.0381 - val_accuracy: 0.9900\n",
            "Epoch 24/30\n",
            "51/51 [==============================] - 100s 2s/step - loss: 0.0121 - accuracy: 0.9956 - val_loss: 0.0656 - val_accuracy: 0.9950\n",
            "Epoch 25/30\n",
            "51/51 [==============================] - 98s 2s/step - loss: 0.0153 - accuracy: 0.9975 - val_loss: 0.0632 - val_accuracy: 0.9950\n",
            "Epoch 26/30\n",
            "51/51 [==============================] - 102s 2s/step - loss: 0.0198 - accuracy: 0.9938 - val_loss: 0.2578 - val_accuracy: 0.9676\n",
            "Epoch 27/30\n",
            "51/51 [==============================] - 95s 2s/step - loss: 0.0115 - accuracy: 0.9944 - val_loss: 0.1090 - val_accuracy: 0.9950\n",
            "Epoch 28/30\n",
            "51/51 [==============================] - 99s 2s/step - loss: 0.0112 - accuracy: 0.9969 - val_loss: 0.0607 - val_accuracy: 0.9900\n",
            "Epoch 29/30\n",
            "51/51 [==============================] - 103s 2s/step - loss: 0.0166 - accuracy: 0.9963 - val_loss: 0.0365 - val_accuracy: 0.9925\n",
            "Epoch 30/30\n",
            "51/51 [==============================] - 99s 2s/step - loss: 0.0132 - accuracy: 0.9956 - val_loss: 0.1275 - val_accuracy: 0.9950\n"
          ]
        }
      ]
    },
    {
      "cell_type": "markdown",
      "source": [
        "# Evaluate model"
      ],
      "metadata": {
        "id": "P4NqekWOoj-9"
      }
    },
    {
      "cell_type": "code",
      "source": [
        "import matplotlib.pyplot as plt\n",
        "\n",
        "# Evaluate the model\n",
        "test_loss, test_acc = model.evaluate(X_test, y_test, verbose=2)\n",
        "print(f'Test accuracy: {test_acc:.4f}')\n",
        "\n",
        "# Plotting training and validation accuracy\n",
        "plt.plot(history.history['accuracy'], label='accuracy')\n",
        "plt.plot(history.history['val_accuracy'], label = 'val_accuracy')\n",
        "plt.xlabel('Epoch')\n",
        "plt.ylabel('Accuracy')\n",
        "plt.ylim([0, 1])\n",
        "plt.legend(loc='lower right')\n",
        "plt.show()"
      ],
      "metadata": {
        "id": "aa54hcoiojfg",
        "colab": {
          "base_uri": "https://localhost:8080/",
          "height": 491
        },
        "outputId": "5def1eeb-fe87-44dc-dc82-7b43f90245cd"
      },
      "execution_count": 4,
      "outputs": [
        {
          "output_type": "stream",
          "name": "stdout",
          "text": [
            "13/13 - 7s - loss: 0.1275 - accuracy: 0.9950 - 7s/epoch - 560ms/step\n",
            "Test accuracy: 0.9950\n"
          ]
        },
        {
          "output_type": "display_data",
          "data": {
            "text/plain": [
              "<Figure size 640x480 with 1 Axes>"
            ],
            "image/png": "[encoded data removed]"
          },
          "metadata": {}
        }
      ]
    },
    {
      "cell_type": "code",
      "source": [],
      "metadata": {
        "id": "UlA6AkxlyAx-"
      },
      "execution_count": null,
      "outputs": []
    }
  ]
}