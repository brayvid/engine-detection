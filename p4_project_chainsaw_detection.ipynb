{
  "nbformat": 4,
  "nbformat_minor": 0,
  "metadata": {
    "colab": {
      "provenance": [],
      "gpuType": "T4",
      "toc_visible": true
    },
    "kernelspec": {
      "name": "python3",
      "display_name": "Python 3"
    },
    "language_info": {
      "name": "python"
    },
    "accelerator": "GPU"
  },
  "cells": [
    {
      "cell_type": "markdown",
      "source": [
        "# Illegal Logging Detection with Neural Networks\n",
        "<h4>Blake Rayvid - <a href=https://github.com/brayvid>https://github.com/brayvid</a></h4>"
      ],
      "metadata": {
        "id": "MlPv0p-sosw5"
      }
    },
    {
      "cell_type": "markdown",
      "source": [
        "# Start from scratch from dataset"
      ],
      "metadata": {
        "id": "SA_IYU_4opdY"
      }
    },
    {
      "cell_type": "code",
      "source": [
        "!pip install resampy"
      ],
      "metadata": {
        "id": "58zWtLu5TK-Q"
      },
      "execution_count": null,
      "outputs": []
    },
    {
      "cell_type": "code",
      "execution_count": null,
      "metadata": {
        "id": "6y9ryX8HoWd7"
      },
      "outputs": [],
      "source": [
        "# Generate X and y from audio files\n",
        "import os\n",
        "import numpy as np\n",
        "import resampy\n",
        "import librosa\n",
        "import logging\n",
        "\n",
        "logging.basicConfig(level=logging.DEBUG)\n",
        "\n",
        "def extract_features(file_path, max_len=200):\n",
        "    try:\n",
        "        # Load audio file\n",
        "        audio, sample_rate = librosa.load(file_path, res_type='kaiser_fast')\n",
        "\n",
        "        # Generate Mel-spectrogram\n",
        "        mel_spectrogram = librosa.feature.melspectrogram(y=audio, sr=sample_rate, n_mels=128)\n",
        "\n",
        "        # Convert power spectrogram to dB\n",
        "        log_mel_spectrogram = librosa.power_to_db(mel_spectrogram, ref=np.max)\n",
        "\n",
        "        # Pad or truncate spectrogram\n",
        "        if log_mel_spectrogram.shape[1] < max_len:\n",
        "            pad_width = max_len - log_mel_spectrogram.shape[1]\n",
        "            log_mel_spectrogram = np.pad(log_mel_spectrogram, pad_width=((0, 0), (0, pad_width)), mode='constant')\n",
        "        else:\n",
        "            log_mel_spectrogram = log_mel_spectrogram[:, :max_len]\n",
        "\n",
        "        return log_mel_spectrogram\n",
        "\n",
        "    except FileNotFoundError:\n",
        "        logging.error(f\"File not found: {file_path}\")\n",
        "        return None\n",
        "    except ValueError as ve:\n",
        "        logging.error(f\"Value error while processing file {file_path}: {ve}\")\n",
        "        return None\n",
        "    except Exception as e:\n",
        "        logging.error(f\"Error processing file {file_path}: {e}\")\n",
        "        return None\n",
        "\n",
        "def load_data(data_dir, max_len=200):\n",
        "    features = []\n",
        "    labels = []\n",
        "    class_names = ['chainsaw', 'non_chainsaw']\n",
        "\n",
        "    for class_name in class_names:\n",
        "        class_dir = os.path.join(data_dir, class_name)\n",
        "        for file_name in os.listdir(class_dir):\n",
        "            file_path = os.path.join(class_dir, file_name)\n",
        "            if file_path.endswith('.wav'):\n",
        "                data = extract_features(file_path, max_len=max_len)\n",
        "                if data is not None:\n",
        "                    features.append(data)\n",
        "                    labels.append(class_name)\n",
        "\n",
        "    return np.array(features), np.array(labels)\n",
        "\n",
        "# Load data\n",
        "data_dir = '/content/drive/MyDrive/PROJECTS/Flatiron/Phase_4_Project/data'\n",
        "max_len = 200\n",
        "X, y = load_data(data_dir, max_len=max_len)\n",
        "\n",
        "if len(X) == 0:\n",
        "    logging.error(\"No valid features extracted.\")\n",
        "else:\n",
        "    logging.info(f\"Extracted features from {len(X)} files.\")\n",
        "\n",
        "# Encode labels\n",
        "from sklearn.preprocessing import LabelEncoder\n",
        "le = LabelEncoder()\n",
        "y = le.fit_transform(y)\n",
        "\n",
        "# Class names\n",
        "class_names = le.classes_"
      ]
    },
    {
      "cell_type": "code",
      "source": [
        "import pickle\n",
        "\n",
        "# Save X and y to files using pickle\n",
        "with open('/content/drive/MyDrive/PROJECTS/Flatiron/Phase_4_Project/X_chainsaw.pkl', 'wb') as f:\n",
        "    pickle.dump(X, f)\n",
        "with open('/content/drive/MyDrive/PROJECTS/Flatiron/Phase_4_Project/y_chainsaw.pkl', 'wb') as f:\n",
        "    pickle.dump(y, f)"
      ],
      "metadata": {
        "id": "o2cgfAfH6p45"
      },
      "execution_count": null,
      "outputs": []
    },
    {
      "cell_type": "markdown",
      "source": [
        "# Start from saved pickle files"
      ],
      "metadata": {
        "id": "yrCx3ala7HQb"
      }
    },
    {
      "cell_type": "code",
      "source": [
        "import pickle\n",
        "\n",
        "# Load X and y from pickle file\n",
        "with open('/content/drive/MyDrive/PROJECTS/Flatiron/Phase_4_Project/X_chainsaw.pkl', 'rb') as f:\n",
        "    X = pickle.load(f)\n",
        "with open('/content/drive/MyDrive/PROJECTS/Flatiron/Phase_4_Project/y_chainsaw.pkl', 'rb') as f:\n",
        "    y = pickle.load(f)"
      ],
      "metadata": {
        "id": "Z9KDwjyh7BVx"
      },
      "execution_count": 5,
      "outputs": []
    },
    {
      "cell_type": "code",
      "source": [
        "from sklearn.model_selection import train_test_split\n",
        "\n",
        "# Train-test split\n",
        "X_train, X_test, y_train, y_test = train_test_split(X, y, test_size=0.1, stratify=y)"
      ],
      "metadata": {
        "id": "PkoF5GSn7sIt"
      },
      "execution_count": 6,
      "outputs": []
    },
    {
      "cell_type": "markdown",
      "source": [
        "# CNN binary classifier"
      ],
      "metadata": {
        "id": "y87dpo0pon9r"
      }
    },
    {
      "cell_type": "code",
      "source": [
        "from tensorflow.keras import layers, models\n",
        "from tensorflow.keras.callbacks import EarlyStopping\n",
        "\n",
        "# Input shape: (number of samples, frequency bins, time frames, 1)\n",
        "input_shape = (128, X_train.shape[2], 1)\n",
        "X_train = X_train.reshape(X_train.shape[0], 128, X_train.shape[2], 1)\n",
        "X_test = X_test.reshape(X_test.shape[0], 128, X_test.shape[2], 1)\n",
        "\n",
        "# Adjust input shape for CNN\n",
        "X_train = X_train[..., np.newaxis]\n",
        "X_test = X_test[..., np.newaxis]\n",
        "\n",
        "model = models.Sequential()\n",
        "\n",
        "# First convolutional layer\n",
        "model.add(layers.Conv2D(32, (3, 3), input_shape=input_shape))\n",
        "model.add(layers.BatchNormalization())\n",
        "model.add(layers.ReLU())\n",
        "model.add(layers.MaxPooling2D((2, 2)))\n",
        "\n",
        "# Second convolutional layer\n",
        "model.add(layers.Conv2D(64, (3, 3)))\n",
        "model.add(layers.BatchNormalization())\n",
        "model.add(layers.ReLU())\n",
        "model.add(layers.MaxPooling2D((2, 2)))\n",
        "\n",
        "# Third convolutional layer\n",
        "model.add(layers.Conv2D(128, (3, 3)))\n",
        "model.add(layers.BatchNormalization())\n",
        "model.add(layers.ReLU())\n",
        "model.add(layers.MaxPooling2D((2, 2)))\n",
        "\n",
        "# Flatten and dense layers\n",
        "model.add(layers.Flatten())\n",
        "model.add(layers.Dense(128, activation='relu'))\n",
        "model.add(layers.Dropout(0.5))\n",
        "model.add(layers.Dense(2, activation='softmax'))\n",
        "\n",
        "# Compile model\n",
        "model.compile(optimizer='adam',\n",
        "              loss='sparse_categorical_crossentropy',\n",
        "              metrics=['accuracy'])\n",
        "\n",
        "# Summary of model\n",
        "model.summary()\n",
        "\n",
        "# Define early stopping callback\n",
        "early_stopping = EarlyStopping(monitor='val_loss', patience=10, restore_best_weights=True)\n",
        "\n",
        "# Train model with early stopping\n",
        "history = model.fit(X_train, y_train, epochs=50, validation_split=0.1, callbacks=[early_stopping])"
      ],
      "metadata": {
        "id": "AUBwbflRocsq",
        "colab": {
          "base_uri": "https://localhost:8080/"
        },
        "outputId": "3ae5c1bf-4402-4cef-f570-731a4c98e2a8"
      },
      "execution_count": 7,
      "outputs": [
        {
          "output_type": "stream",
          "name": "stdout",
          "text": [
            "Model: \"sequential_1\"\n",
            "_________________________________________________________________\n",
            " Layer (type)                Output Shape              Param #   \n",
            "=================================================================\n",
            " conv2d_7 (Conv2D)           (None, 126, 198, 32)      320       \n",
            "                                                                 \n",
            " batch_normalization (Batch  (None, 126, 198, 32)      128       \n",
            " Normalization)                                                  \n",
            "                                                                 \n",
            " re_lu (ReLU)                (None, 126, 198, 32)      0         \n",
            "                                                                 \n",
            " max_pooling2d_3 (MaxPoolin  (None, 63, 99, 32)        0         \n",
            " g2D)                                                            \n",
            "                                                                 \n",
            " conv2d_8 (Conv2D)           (None, 61, 97, 64)        18496     \n",
            "                                                                 \n",
            " batch_normalization_1 (Bat  (None, 61, 97, 64)        256       \n",
            " chNormalization)                                                \n",
            "                                                                 \n",
            " re_lu_1 (ReLU)              (None, 61, 97, 64)        0         \n",
            "                                                                 \n",
            " max_pooling2d_4 (MaxPoolin  (None, 30, 48, 64)        0         \n",
            " g2D)                                                            \n",
            "                                                                 \n",
            " conv2d_9 (Conv2D)           (None, 28, 46, 128)       73856     \n",
            "                                                                 \n",
            " batch_normalization_2 (Bat  (None, 28, 46, 128)       512       \n",
            " chNormalization)                                                \n",
            "                                                                 \n",
            " re_lu_2 (ReLU)              (None, 28, 46, 128)       0         \n",
            "                                                                 \n",
            " max_pooling2d_5 (MaxPoolin  (None, 14, 23, 128)       0         \n",
            " g2D)                                                            \n",
            "                                                                 \n",
            " flatten (Flatten)           (None, 41216)             0         \n",
            "                                                                 \n",
            " dense (Dense)               (None, 128)               5275776   \n",
            "                                                                 \n",
            " dropout (Dropout)           (None, 128)               0         \n",
            "                                                                 \n",
            " dense_1 (Dense)             (None, 2)                 258       \n",
            "                                                                 \n",
            "=================================================================\n",
            "Total params: 5369602 (20.48 MB)\n",
            "Trainable params: 5369154 (20.48 MB)\n",
            "Non-trainable params: 448 (1.75 KB)\n",
            "_________________________________________________________________\n",
            "Epoch 1/50\n",
            "51/51 [==============================] - 8s 67ms/step - loss: 1.8867 - accuracy: 0.9605 - val_loss: 26.3937 - val_accuracy: 0.9890\n",
            "Epoch 2/50\n",
            "51/51 [==============================] - 2s 36ms/step - loss: 0.4399 - accuracy: 0.9704 - val_loss: 4.1923 - val_accuracy: 0.9890\n",
            "Epoch 3/50\n",
            "51/51 [==============================] - 2s 38ms/step - loss: 0.1665 - accuracy: 0.9765 - val_loss: 0.2761 - val_accuracy: 0.9890\n",
            "Epoch 4/50\n",
            "51/51 [==============================] - 2s 36ms/step - loss: 0.3045 - accuracy: 0.9772 - val_loss: 0.0525 - val_accuracy: 0.9890\n",
            "Epoch 5/50\n",
            "51/51 [==============================] - 2s 37ms/step - loss: 0.1592 - accuracy: 0.9753 - val_loss: 0.0417 - val_accuracy: 0.9890\n",
            "Epoch 6/50\n",
            "51/51 [==============================] - 2s 36ms/step - loss: 0.1707 - accuracy: 0.9759 - val_loss: 0.0450 - val_accuracy: 0.9890\n",
            "Epoch 7/50\n",
            "51/51 [==============================] - 2s 39ms/step - loss: 0.1072 - accuracy: 0.9735 - val_loss: 0.0493 - val_accuracy: 0.9890\n",
            "Epoch 8/50\n",
            "51/51 [==============================] - 2s 40ms/step - loss: 0.1315 - accuracy: 0.9778 - val_loss: 0.0446 - val_accuracy: 0.9890\n",
            "Epoch 9/50\n",
            "51/51 [==============================] - 2s 37ms/step - loss: 0.1322 - accuracy: 0.9778 - val_loss: 0.0467 - val_accuracy: 0.9890\n",
            "Epoch 10/50\n",
            "51/51 [==============================] - 2s 37ms/step - loss: 0.0935 - accuracy: 0.9759 - val_loss: 0.0470 - val_accuracy: 0.9890\n",
            "Epoch 11/50\n",
            "51/51 [==============================] - 2s 38ms/step - loss: 0.0869 - accuracy: 0.9759 - val_loss: 0.0624 - val_accuracy: 0.9890\n",
            "Epoch 12/50\n",
            "51/51 [==============================] - 2s 37ms/step - loss: 0.0731 - accuracy: 0.9784 - val_loss: 0.0577 - val_accuracy: 0.9890\n",
            "Epoch 13/50\n",
            "51/51 [==============================] - 2s 36ms/step - loss: 0.0877 - accuracy: 0.9802 - val_loss: 0.0485 - val_accuracy: 0.9890\n",
            "Epoch 14/50\n",
            "51/51 [==============================] - 2s 38ms/step - loss: 0.0822 - accuracy: 0.9765 - val_loss: 0.0643 - val_accuracy: 0.9890\n",
            "Epoch 15/50\n",
            "51/51 [==============================] - 2s 40ms/step - loss: 0.0850 - accuracy: 0.9778 - val_loss: 0.0747 - val_accuracy: 0.9890\n"
          ]
        }
      ]
    },
    {
      "cell_type": "markdown",
      "source": [
        "## Evaluate CNN"
      ],
      "metadata": {
        "id": "P4NqekWOoj-9"
      }
    },
    {
      "cell_type": "code",
      "source": [
        "import matplotlib.pyplot as plt\n",
        "import numpy as np\n",
        "from sklearn.metrics import roc_auc_score, classification_report, ConfusionMatrixDisplay\n",
        "\n",
        "# Evaluate model\n",
        "test_loss, test_acc = model.evaluate(X_test, y_test)\n",
        "print(f\"Test accuracy: {test_acc}\")\n",
        "\n",
        "# Get test set predictions\n",
        "y_pred = np.argmax(model.predict(X_test), axis=1)\n",
        "\n",
        "# Display ROC-AUC score\n",
        "roc_auc = roc_auc_score(y_test, y_pred)\n",
        "print(f\"ROC-AUC: {roc_auc}\")\n",
        "\n",
        "# Classification report\n",
        "print(classification_report(y_test, y_pred, target_names=['chainsaw', 'non-chainsaw']))\n",
        "\n",
        "# Plot confusion matrix\n",
        "ConfusionMatrixDisplay.from_predictions(y_test, y_pred, display_labels=['Chainsaw', 'No Chainsaw'])\n",
        "plt.show()\n",
        "\n",
        "# # Plot train and validation accuracy over all epochs\n",
        "# plt.plot(history.history['accuracy'], label='accuracy')\n",
        "# plt.plot(history.history['val_accuracy'], label = 'val_accuracy')\n",
        "# plt.xlabel('Epoch')\n",
        "# plt.ylabel('Accuracy')\n",
        "# plt.ylim([0, 1])\n",
        "# plt.legend(loc='lower right')\n",
        "# plt.show()"
      ],
      "metadata": {
        "id": "aa54hcoiojfg",
        "colab": {
          "base_uri": "https://localhost:8080/",
          "height": 808
        },
        "outputId": "dbc731e5-5c62-483e-e5de-0d4a6df749b3"
      },
      "execution_count": 8,
      "outputs": [
        {
          "output_type": "stream",
          "name": "stdout",
          "text": [
            "7/7 [==============================] - 0s 55ms/step - loss: 0.4314 - accuracy: 0.9801\n",
            "Test accuracy: 0.9800994992256165\n",
            "7/7 [==============================] - 0s 10ms/step\n",
            "ROC-AUC: 0.5\n",
            "              precision    recall  f1-score   support\n",
            "\n",
            "    chainsaw       0.00      0.00      0.00         4\n",
            "non-chainsaw       0.98      1.00      0.99       197\n",
            "\n",
            "    accuracy                           0.98       201\n",
            "   macro avg       0.49      0.50      0.49       201\n",
            "weighted avg       0.96      0.98      0.97       201\n",
            "\n"
          ]
        },
        {
          "output_type": "stream",
          "name": "stderr",
          "text": [
            "/usr/local/lib/python3.10/dist-packages/sklearn/metrics/_classification.py:1471: UndefinedMetricWarning: Precision and F-score are ill-defined and being set to 0.0 in labels with no predicted samples. Use `zero_division` parameter to control this behavior.\n",
            "  _warn_prf(average, modifier, msg_start, len(result))\n",
            "/usr/local/lib/python3.10/dist-packages/sklearn/metrics/_classification.py:1471: UndefinedMetricWarning: Precision and F-score are ill-defined and being set to 0.0 in labels with no predicted samples. Use `zero_division` parameter to control this behavior.\n",
            "  _warn_prf(average, modifier, msg_start, len(result))\n",
            "/usr/local/lib/python3.10/dist-packages/sklearn/metrics/_classification.py:1471: UndefinedMetricWarning: Precision and F-score are ill-defined and being set to 0.0 in labels with no predicted samples. Use `zero_division` parameter to control this behavior.\n",
            "  _warn_prf(average, modifier, msg_start, len(result))\n"
          ]
        },
        {
          "output_type": "display_data",
          "data": {
            "text/plain": [
              "<Figure size 640x480 with 2 Axes>"
            ],
            "image/png": "[encoded data removed]"
          },
          "metadata": {}
        }
      ]
    },
    {
      "cell_type": "markdown",
      "source": [
        "# Autoencoder outlier detector"
      ],
      "metadata": {
        "id": "dAZTt5l7vMB8"
      }
    },
    {
      "cell_type": "code",
      "source": [
        "import numpy as np\n",
        "from sklearn.preprocessing import StandardScaler\n",
        "from tensorflow.keras.models import Sequential\n",
        "from tensorflow.keras.layers import Conv2D, MaxPooling2D, UpSampling2D\n",
        "from tensorflow.keras.callbacks import EarlyStopping\n",
        "from tensorflow.keras.optimizers import Adam\n",
        "\n",
        "# Normalize the data\n",
        "scaler = StandardScaler()\n",
        "X_train_normalized = scaler.fit_transform(X_train.reshape(-1, X_train.shape[-1])).reshape(X_train.shape)\n",
        "X_test_normalized = scaler.transform(X_test.reshape(-1, X_test.shape[-1])).reshape(X_test.shape)\n",
        "\n",
        "# Expand dimensions to match the expected input shape for the autoencoder\n",
        "X_train_normalized = np.expand_dims(X_train_normalized, axis=-1)\n",
        "X_test_normalized = np.expand_dims(X_test_normalized, axis=-1)\n",
        "\n",
        "# Define the model\n",
        "model = Sequential()\n",
        "model.add(Conv2D(32, (3, 3), activation='relu', padding='same', input_shape=(128, 200, 1)))\n",
        "model.add(MaxPooling2D((2, 2), padding='same'))\n",
        "model.add(Conv2D(64, (3, 3), activation='relu', padding='same'))\n",
        "model.add(MaxPooling2D((2, 2), padding='same'))\n",
        "model.add(Conv2D(128, (3, 3), activation='relu', padding='same'))\n",
        "model.add(MaxPooling2D((2, 2), padding='same'))\n",
        "model.add(Conv2D(128, (3, 3), activation='relu', padding='same'))\n",
        "model.add(UpSampling2D((2, 2)))\n",
        "model.add(Conv2D(64, (3, 3), activation='relu', padding='same'))\n",
        "model.add(UpSampling2D((2, 2)))\n",
        "model.add(Conv2D(32, (3, 3), activation='relu', padding='same'))\n",
        "model.add(UpSampling2D((2, 2)))\n",
        "model.add(Conv2D(1, (3, 3), activation='sigmoid', padding='same'))\n",
        "\n",
        "model.compile(optimizer=Adam(learning_rate=1e-4), loss='mean_squared_error')\n",
        "\n",
        "# Summary of model\n",
        "model.summary()\n",
        "\n",
        "# Train the model on non-chainsaw data (class 1)\n",
        "X_train_non_chainsaw = X_train_normalized[y_train == 1]\n",
        "early_stopping = EarlyStopping(monitor='val_loss', patience=10, restore_best_weights=True)\n",
        "model.fit(X_train_non_chainsaw, X_train_non_chainsaw, epochs=50, batch_size=32, validation_split=0.1, callbacks=[early_stopping])\n"
      ],
      "metadata": {
        "colab": {
          "base_uri": "https://localhost:8080/"
        },
        "id": "SI3sr5vJvPte",
        "outputId": "dab7cf11-81cf-416f-850a-6fe1944e76c9"
      },
      "execution_count": 3,
      "outputs": [
        {
          "output_type": "stream",
          "name": "stdout",
          "text": [
            "Model: \"sequential\"\n",
            "_________________________________________________________________\n",
            " Layer (type)                Output Shape              Param #   \n",
            "=================================================================\n",
            " conv2d (Conv2D)             (None, 128, 200, 32)      320       \n",
            "                                                                 \n",
            " max_pooling2d (MaxPooling2  (None, 64, 100, 32)       0         \n",
            " D)                                                              \n",
            "                                                                 \n",
            " conv2d_1 (Conv2D)           (None, 64, 100, 64)       18496     \n",
            "                                                                 \n",
            " max_pooling2d_1 (MaxPoolin  (None, 32, 50, 64)        0         \n",
            " g2D)                                                            \n",
            "                                                                 \n",
            " conv2d_2 (Conv2D)           (None, 32, 50, 128)       73856     \n",
            "                                                                 \n",
            " max_pooling2d_2 (MaxPoolin  (None, 16, 25, 128)       0         \n",
            " g2D)                                                            \n",
            "                                                                 \n",
            " conv2d_3 (Conv2D)           (None, 16, 25, 128)       147584    \n",
            "                                                                 \n",
            " up_sampling2d (UpSampling2  (None, 32, 50, 128)       0         \n",
            " D)                                                              \n",
            "                                                                 \n",
            " conv2d_4 (Conv2D)           (None, 32, 50, 64)        73792     \n",
            "                                                                 \n",
            " up_sampling2d_1 (UpSamplin  (None, 64, 100, 64)       0         \n",
            " g2D)                                                            \n",
            "                                                                 \n",
            " conv2d_5 (Conv2D)           (None, 64, 100, 32)       18464     \n",
            "                                                                 \n",
            " up_sampling2d_2 (UpSamplin  (None, 128, 200, 32)      0         \n",
            " g2D)                                                            \n",
            "                                                                 \n",
            " conv2d_6 (Conv2D)           (None, 128, 200, 1)       289       \n",
            "                                                                 \n",
            "=================================================================\n",
            "Total params: 332801 (1.27 MB)\n",
            "Trainable params: 332801 (1.27 MB)\n",
            "Non-trainable params: 0 (0.00 Byte)\n",
            "_________________________________________________________________\n",
            "Epoch 1/50\n",
            "50/50 [==============================] - 19s 112ms/step - loss: 0.8612 - val_loss: 0.7079\n",
            "Epoch 2/50\n",
            "50/50 [==============================] - 3s 53ms/step - loss: 0.6253 - val_loss: 0.6850\n",
            "Epoch 3/50\n",
            "50/50 [==============================] - 3s 54ms/step - loss: 0.6084 - val_loss: 0.6764\n",
            "Epoch 4/50\n",
            "50/50 [==============================] - 3s 54ms/step - loss: 0.6020 - val_loss: 0.6720\n",
            "Epoch 5/50\n",
            "50/50 [==============================] - 3s 53ms/step - loss: 0.5977 - val_loss: 0.6680\n",
            "Epoch 6/50\n",
            "50/50 [==============================] - 3s 56ms/step - loss: 0.5952 - val_loss: 0.6654\n",
            "Epoch 7/50\n",
            "50/50 [==============================] - 3s 54ms/step - loss: 0.5933 - val_loss: 0.6637\n",
            "Epoch 8/50\n",
            "50/50 [==============================] - 3s 53ms/step - loss: 0.5919 - val_loss: 0.6626\n",
            "Epoch 9/50\n",
            "50/50 [==============================] - 3s 54ms/step - loss: 0.5908 - val_loss: 0.6615\n",
            "Epoch 10/50\n",
            "50/50 [==============================] - 3s 55ms/step - loss: 0.5900 - val_loss: 0.6610\n",
            "Epoch 11/50\n",
            "50/50 [==============================] - 3s 58ms/step - loss: 0.5893 - val_loss: 0.6599\n",
            "Epoch 12/50\n",
            "50/50 [==============================] - 3s 54ms/step - loss: 0.5886 - val_loss: 0.6593\n",
            "Epoch 13/50\n",
            "50/50 [==============================] - 3s 54ms/step - loss: 0.5880 - val_loss: 0.6590\n",
            "Epoch 14/50\n",
            "50/50 [==============================] - 3s 55ms/step - loss: 0.5877 - val_loss: 0.6585\n",
            "Epoch 15/50\n",
            "50/50 [==============================] - 3s 55ms/step - loss: 0.5872 - val_loss: 0.6579\n",
            "Epoch 16/50\n",
            "50/50 [==============================] - 3s 57ms/step - loss: 0.5867 - val_loss: 0.6574\n",
            "Epoch 17/50\n",
            "50/50 [==============================] - 3s 53ms/step - loss: 0.5863 - val_loss: 0.6570\n",
            "Epoch 18/50\n",
            "50/50 [==============================] - 3s 53ms/step - loss: 0.5861 - val_loss: 0.6576\n",
            "Epoch 19/50\n",
            "50/50 [==============================] - 3s 53ms/step - loss: 0.5857 - val_loss: 0.6564\n",
            "Epoch 20/50\n",
            "50/50 [==============================] - 3s 55ms/step - loss: 0.5854 - val_loss: 0.6562\n",
            "Epoch 21/50\n",
            "50/50 [==============================] - 3s 56ms/step - loss: 0.5850 - val_loss: 0.6558\n",
            "Epoch 22/50\n",
            "50/50 [==============================] - 3s 52ms/step - loss: 0.5849 - val_loss: 0.6557\n",
            "Epoch 23/50\n",
            "50/50 [==============================] - 3s 54ms/step - loss: 0.5846 - val_loss: 0.6552\n",
            "Epoch 24/50\n",
            "50/50 [==============================] - 3s 53ms/step - loss: 0.5843 - val_loss: 0.6556\n",
            "Epoch 25/50\n",
            "50/50 [==============================] - 3s 54ms/step - loss: 0.5844 - val_loss: 0.6548\n",
            "Epoch 26/50\n",
            "50/50 [==============================] - 3s 61ms/step - loss: 0.5838 - val_loss: 0.6547\n",
            "Epoch 27/50\n",
            "50/50 [==============================] - 3s 54ms/step - loss: 0.5836 - val_loss: 0.6545\n",
            "Epoch 28/50\n",
            "50/50 [==============================] - 3s 53ms/step - loss: 0.5835 - val_loss: 0.6541\n",
            "Epoch 29/50\n",
            "50/50 [==============================] - 3s 53ms/step - loss: 0.5833 - val_loss: 0.6541\n",
            "Epoch 30/50\n",
            "50/50 [==============================] - 3s 55ms/step - loss: 0.5832 - val_loss: 0.6538\n",
            "Epoch 31/50\n",
            "50/50 [==============================] - 3s 54ms/step - loss: 0.5829 - val_loss: 0.6537\n",
            "Epoch 32/50\n",
            "50/50 [==============================] - 3s 53ms/step - loss: 0.5827 - val_loss: 0.6533\n",
            "Epoch 33/50\n",
            "50/50 [==============================] - 3s 56ms/step - loss: 0.5825 - val_loss: 0.6531\n",
            "Epoch 34/50\n",
            "50/50 [==============================] - 3s 53ms/step - loss: 0.5823 - val_loss: 0.6530\n",
            "Epoch 35/50\n",
            "50/50 [==============================] - 3s 54ms/step - loss: 0.5821 - val_loss: 0.6528\n",
            "Epoch 36/50\n",
            "50/50 [==============================] - 3s 54ms/step - loss: 0.5824 - val_loss: 0.6549\n",
            "Epoch 37/50\n",
            "50/50 [==============================] - 3s 53ms/step - loss: 0.5822 - val_loss: 0.6525\n",
            "Epoch 38/50\n",
            "50/50 [==============================] - 3s 54ms/step - loss: 0.5816 - val_loss: 0.6523\n",
            "Epoch 39/50\n",
            "50/50 [==============================] - 3s 54ms/step - loss: 0.5815 - val_loss: 0.6522\n",
            "Epoch 40/50\n",
            "50/50 [==============================] - 3s 54ms/step - loss: 0.5813 - val_loss: 0.6520\n",
            "Epoch 41/50\n",
            "50/50 [==============================] - 3s 56ms/step - loss: 0.5811 - val_loss: 0.6518\n",
            "Epoch 42/50\n",
            "50/50 [==============================] - 3s 53ms/step - loss: 0.5810 - val_loss: 0.6516\n",
            "Epoch 43/50\n",
            "50/50 [==============================] - 3s 54ms/step - loss: 0.5808 - val_loss: 0.6515\n",
            "Epoch 44/50\n",
            "50/50 [==============================] - 3s 54ms/step - loss: 0.5807 - val_loss: 0.6513\n",
            "Epoch 45/50\n",
            "50/50 [==============================] - 3s 56ms/step - loss: 0.5805 - val_loss: 0.6512\n",
            "Epoch 46/50\n",
            "50/50 [==============================] - 3s 56ms/step - loss: 0.5804 - val_loss: 0.6514\n",
            "Epoch 47/50\n",
            "50/50 [==============================] - 3s 53ms/step - loss: 0.5803 - val_loss: 0.6508\n",
            "Epoch 48/50\n",
            "50/50 [==============================] - 3s 54ms/step - loss: 0.5800 - val_loss: 0.6507\n",
            "Epoch 49/50\n",
            "50/50 [==============================] - 3s 54ms/step - loss: 0.5798 - val_loss: 0.6506\n",
            "Epoch 50/50\n",
            "50/50 [==============================] - 3s 55ms/step - loss: 0.5797 - val_loss: 0.6504\n"
          ]
        },
        {
          "output_type": "execute_result",
          "data": {
            "text/plain": [
              "<keras.src.callbacks.History at 0x7da5890d2d10>"
            ]
          },
          "metadata": {},
          "execution_count": 3
        }
      ]
    },
    {
      "cell_type": "markdown",
      "source": [
        "## Evaluate autoencoder"
      ],
      "metadata": {
        "id": "ra12Ie88vTEs"
      }
    },
    {
      "cell_type": "code",
      "source": [
        "import pandas as pd\n",
        "import matplotlib.pyplot as plt\n",
        "from sklearn.metrics import roc_auc_score, classification_report, ConfusionMatrixDisplay\n",
        "\n",
        "# Predict and calculate the reconstruction error\n",
        "reconstructions = model.predict(X_test_normalized)\n",
        "reconstruction_errors = np.mean(np.power(np.squeeze(X_test_normalized) - np.squeeze(reconstructions), 2), axis=(1, 2))\n",
        "\n",
        "# Determine the threshold for detecting outliers (chainsaws)\n",
        "threshold = np.percentile(reconstruction_errors[y_test == 1], 95)  # 95th percentile from non-chainsaw errors\n",
        "print(f\"Reconstruction error threshold: {threshold}\")\n",
        "\n",
        "# Classify as chainsaw (0) if reconstruction error exceeds threshold\n",
        "predictions = (reconstruction_errors > threshold).astype(int)\n",
        "\n",
        "# Display ROC-AUC\n",
        "roc_auc = roc_auc_score(y_test, predictions)\n",
        "print(f\"ROC-AUC: {roc_auc}\")\n",
        "\n",
        "# Classification report\n",
        "print(classification_report(y_test, predictions, target_names=['chainsaw', 'non-chainsaw']))\n",
        "\n",
        "# Plot confusion matrix\n",
        "ConfusionMatrixDisplay.from_predictions(y_test, predictions, display_labels=['Chainsaw', 'No Chainsaw'])\n",
        "plt.show()"
      ],
      "metadata": {
        "colab": {
          "base_uri": "https://localhost:8080/",
          "height": 663
        },
        "id": "9YjpTvRXvSvT",
        "outputId": "91b8501c-80cc-4619-a358-ab4fe88ddffb"
      },
      "execution_count": 4,
      "outputs": [
        {
          "output_type": "stream",
          "name": "stdout",
          "text": [
            "7/7 [==============================] - 1s 100ms/step\n",
            "Reconstruction error threshold: 1.7402906179428097\n",
            "ROC-AUC: 0.5253807106598984\n",
            "              precision    recall  f1-score   support\n",
            "\n",
            "    chainsaw       0.02      1.00      0.04         4\n",
            "non-chainsaw       1.00      0.05      0.10       197\n",
            "\n",
            "    accuracy                           0.07       201\n",
            "   macro avg       0.51      0.53      0.07       201\n",
            "weighted avg       0.98      0.07      0.10       201\n",
            "\n"
          ]
        },
        {
          "output_type": "display_data",
          "data": {
            "text/plain": [
              "<Figure size 640x480 with 2 Axes>"
            ],
            "image/png": "[encoded data removed]"
          },
          "metadata": {}
        }
      ]
    },
    {
      "cell_type": "code",
      "source": [],
      "metadata": {
        "id": "Jl46F_zUvxTh"
      },
      "execution_count": null,
      "outputs": []
    }
  ]
}